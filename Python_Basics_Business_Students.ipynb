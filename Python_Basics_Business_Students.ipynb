{
  "cells": [
    {
      "cell_type": "markdown",
      "metadata": {
        "id": "view-in-github",
        "colab_type": "text"
      },
      "source": [
        "<a href=\"https://colab.research.google.com/github/Kartavya-Jharwal/Kartavya_Business_Analytics2025/blob/main/Python_Basics_Business_Students.ipynb\" target=\"_parent\"><img src=\"https://colab.research.google.com/assets/colab-badge.svg\" alt=\"Open In Colab\"/></a>"
      ]
    },
    {
      "cell_type": "markdown",
      "id": "e94a8672",
      "metadata": {
        "id": "e94a8672"
      },
      "source": [
        "# Python Basics for Business Students\n",
        "Welcome to your first Python notebook. Each section includes an example followed by a task for you to complete."
      ]
    },
    {
      "cell_type": "markdown",
      "id": "3eed0e13",
      "metadata": {
        "id": "3eed0e13"
      },
      "source": [
        "## 01 Variables"
      ]
    },
    {
      "cell_type": "code",
      "execution_count": null,
      "id": "3881bcfe",
      "metadata": {
        "colab": {
          "base_uri": "https://localhost:8080/"
        },
        "id": "3881bcfe",
        "outputId": "847e59fd-5fcf-4384-c0c1-17584b0a17af"
      },
      "outputs": [
        {
          "output_type": "stream",
          "name": "stdout",
          "text": [
            "Alice 25 True\n"
          ]
        }
      ],
      "source": [
        "# Example: Declaring variables\n",
        "name = \"Alice\"\n",
        "age = 25\n",
        "is_student = True\n",
        "print(name, age, is_student)"
      ]
    },
    {
      "cell_type": "code",
      "execution_count": null,
      "id": "96764c8b",
      "metadata": {
        "id": "96764c8b",
        "colab": {
          "base_uri": "https://localhost:8080/"
        },
        "outputId": "809aee22-2267-4074-cdce-234db677ca93"
      },
      "outputs": [
        {
          "output_type": "stream",
          "name": "stdout",
          "text": [
            "London\n"
          ]
        }
      ],
      "source": [
        "# Task 1: Declare your own variables\n",
        "# Create a variable called city with your city name\n",
        "city=\"London\"\n",
        "# Create a variable called year_of_birth with your birth year\n",
        "year_of_birth=1995\n",
        "# Create a boolean variable is_enrolled and set it to True or False\n",
        "\n",
        "print(city)"
      ]
    },
    {
      "cell_type": "markdown",
      "id": "a5c94ade",
      "metadata": {
        "id": "a5c94ade"
      },
      "source": [
        "## 02 Data Types"
      ]
    },
    {
      "cell_type": "code",
      "execution_count": null,
      "id": "d98fe526",
      "metadata": {
        "colab": {
          "base_uri": "https://localhost:8080/"
        },
        "id": "d98fe526",
        "outputId": "6cf5c7c7-500b-4644-bad0-b11df928a10c"
      },
      "outputs": [
        {
          "output_type": "stream",
          "name": "stdout",
          "text": [
            "<class 'int'> <class 'float'> <class 'str'>\n"
          ]
        }
      ],
      "source": [
        "# Example: Checking data types\n",
        "x = 5\n",
        "y = 3.14\n",
        "z = \"Python\"\n",
        "print(type(x), type(y), type(z))"
      ]
    },
    {
      "cell_type": "code",
      "execution_count": null,
      "id": "2f65a157",
      "metadata": {
        "id": "2f65a157"
      },
      "outputs": [],
      "source": [
        "# Task 2: Check the type of the following values\n",
        "# Assign your full name to a variable and print its type\n",
        "# Assign your age (as a decimal) to a variable and print its type\n"
      ]
    },
    {
      "cell_type": "code",
      "source": [
        "# Assign your full name to a variable\n",
        "full_name = \"Your Full Name\"\n",
        "print(type(full_name))"
      ],
      "metadata": {
        "colab": {
          "base_uri": "https://localhost:8080/"
        },
        "id": "c9DfvsS_8SVW",
        "outputId": "ddd82375-7c06-4d7e-8c2d-49ac0535914a"
      },
      "id": "c9DfvsS_8SVW",
      "execution_count": null,
      "outputs": [
        {
          "output_type": "stream",
          "name": "stdout",
          "text": [
            "<class 'str'>\n"
          ]
        }
      ]
    },
    {
      "cell_type": "markdown",
      "id": "2126a562",
      "metadata": {
        "id": "2126a562"
      },
      "source": [
        "## 03 Type Conversion"
      ]
    },
    {
      "cell_type": "code",
      "execution_count": null,
      "id": "56e93d35",
      "metadata": {
        "colab": {
          "base_uri": "https://localhost:8080/"
        },
        "id": "56e93d35",
        "outputId": "591ab00b-058d-46ea-fcb1-b33030a4171f"
      },
      "outputs": [
        {
          "output_type": "stream",
          "name": "stdout",
          "text": [
            "123 123 123.0\n"
          ]
        }
      ],
      "source": [
        "# Example: Converting data types\n",
        "a = \"123\"\n",
        "b = int(a)\n",
        "c = float(b)\n",
        "print(a, b, c)"
      ]
    },
    {
      "cell_type": "code",
      "execution_count": null,
      "id": "ca555e5e",
      "metadata": {
        "id": "ca555e5e"
      },
      "outputs": [],
      "source": [
        "# Task 3: Convert and print values\n",
        "# Convert a number from float to int\n",
        "# Convert a list into a string using str()\n"
      ]
    },
    {
      "cell_type": "markdown",
      "id": "f9aff86f",
      "metadata": {
        "id": "f9aff86f"
      },
      "source": [
        "## 04 Lists"
      ]
    },
    {
      "cell_type": "code",
      "execution_count": null,
      "id": "46dcdec7",
      "metadata": {
        "colab": {
          "base_uri": "https://localhost:8080/"
        },
        "id": "46dcdec7",
        "outputId": "64910c62-bb69-4e83-bc64-7234bb74fa85"
      },
      "outputs": [
        {
          "output_type": "stream",
          "name": "stdout",
          "text": [
            "['apple', 'banana', 'cherry', 'orange']\n"
          ]
        }
      ],
      "source": [
        "# Example: Creating and modifying a list\n",
        "fruits = [\"apple\", \"banana\", \"cherry\"]\n",
        "fruits.append(\"orange\")\n",
        "print(fruits)"
      ]
    },
    {
      "cell_type": "code",
      "execution_count": null,
      "id": "0609167c",
      "metadata": {
        "id": "0609167c"
      },
      "outputs": [],
      "source": [
        "# Task 4: Create and modify your own list\n",
        "# Create a list of 3 hobbies\n",
        "# Add a fourth hobby using append()\n"
      ]
    },
    {
      "cell_type": "markdown",
      "id": "b75937d7",
      "metadata": {
        "id": "b75937d7"
      },
      "source": [
        "## 05 Conditional Statements"
      ]
    },
    {
      "cell_type": "code",
      "execution_count": null,
      "id": "1adf824e",
      "metadata": {
        "colab": {
          "base_uri": "https://localhost:8080/"
        },
        "id": "1adf824e",
        "outputId": "fd82cf68-35ab-4716-c02b-8254185adea7"
      },
      "outputs": [
        {
          "output_type": "stream",
          "name": "stdout",
          "text": [
            "Pass\n"
          ]
        }
      ],
      "source": [
        "# Example: If-Else condition\n",
        "score = 85\n",
        "if score >= 50:\n",
        "    print(\"Pass\")\n",
        "else:\n",
        "    print(\"Fail\")"
      ]
    },
    {
      "cell_type": "code",
      "execution_count": null,
      "id": "4b46b5d2",
      "metadata": {
        "id": "4b46b5d2"
      },
      "outputs": [],
      "source": [
        "# Task 5: Write your own conditional\n",
        "# Write an if-else block that checks if your age is over 18\n",
        "# Print \"Adult\" or \"Minor\" accordingly\n"
      ]
    },
    {
      "cell_type": "markdown",
      "id": "1ee8d659",
      "metadata": {
        "id": "1ee8d659"
      },
      "source": [
        "## 06 Loops"
      ]
    },
    {
      "cell_type": "code",
      "execution_count": null,
      "id": "a91fd094",
      "metadata": {
        "colab": {
          "base_uri": "https://localhost:8080/"
        },
        "id": "a91fd094",
        "outputId": "8acba86f-bf94-4f58-bfc4-d068d044a1ad"
      },
      "outputs": [
        {
          "output_type": "stream",
          "name": "stdout",
          "text": [
            "Iteration 0\n",
            "Iteration 1\n",
            "Iteration 2\n"
          ]
        }
      ],
      "source": [
        "# Example: For loop\n",
        "for i in range(3):\n",
        "    print(\"Iteration\", i)"
      ]
    },
    {
      "cell_type": "code",
      "execution_count": null,
      "id": "46d4018f",
      "metadata": {
        "id": "46d4018f"
      },
      "outputs": [],
      "source": [
        "# Task 6: Write a for loop\n",
        "# Loop through a list of your 3 favorite foods and print each one\n"
      ]
    },
    {
      "cell_type": "markdown",
      "id": "97b0f29c",
      "metadata": {
        "id": "97b0f29c"
      },
      "source": [
        "## 07 Functions"
      ]
    },
    {
      "cell_type": "code",
      "execution_count": null,
      "id": "b80d864f",
      "metadata": {
        "colab": {
          "base_uri": "https://localhost:8080/"
        },
        "id": "b80d864f",
        "outputId": "f02da869-3a4c-4151-e512-81dd0b2e56ca"
      },
      "outputs": [
        {
          "output_type": "stream",
          "name": "stdout",
          "text": [
            "Hello, Alice\n"
          ]
        }
      ],
      "source": [
        "# Example: A function to greet\n",
        "def greet(name):\n",
        "    return \"Hello, \" + name\n",
        "\n",
        "print(greet(\"Alice\"))"
      ]
    },
    {
      "cell_type": "code",
      "execution_count": null,
      "id": "f3dbeebe",
      "metadata": {
        "id": "f3dbeebe"
      },
      "outputs": [],
      "source": [
        "# Task 7: Write your own function\n",
        "# Define a function that takes your name and age, and returns a greeting\n"
      ]
    },
    {
      "cell_type": "markdown",
      "id": "cab8e9f8",
      "metadata": {
        "id": "cab8e9f8"
      },
      "source": [
        "## 08 Built in Functions"
      ]
    },
    {
      "cell_type": "code",
      "execution_count": null,
      "id": "583aa044",
      "metadata": {
        "colab": {
          "base_uri": "https://localhost:8080/"
        },
        "id": "583aa044",
        "outputId": "98e8452a-65ef-4c31-aa1f-c52d0ab6c0ee"
      },
      "outputs": [
        {
          "output_type": "stream",
          "name": "stdout",
          "text": [
            "3 30\n"
          ]
        }
      ],
      "source": [
        "# Example: Using built-in functions\n",
        "numbers = [5, 10, 15]\n",
        "print(len(numbers), sum(numbers))"
      ]
    },
    {
      "cell_type": "code",
      "execution_count": null,
      "id": "a6652f99",
      "metadata": {
        "id": "a6652f99"
      },
      "outputs": [],
      "source": [
        "# Task 8: Use built-in functions\n",
        "# Create a list of 4 numbers and use min(), max(), and sum() to analyze it\n"
      ]
    },
    {
      "cell_type": "markdown",
      "id": "f3e29987",
      "metadata": {
        "id": "f3e29987"
      },
      "source": [
        "## 09 Importing Modules"
      ]
    },
    {
      "cell_type": "code",
      "execution_count": null,
      "id": "363cf6a4",
      "metadata": {
        "id": "363cf6a4"
      },
      "outputs": [],
      "source": [
        "# Example: Importing and using the math module\n",
        "import math\n",
        "print(math.sqrt(16))"
      ]
    },
    {
      "cell_type": "code",
      "execution_count": null,
      "id": "bc2147c7",
      "metadata": {
        "id": "bc2147c7"
      },
      "outputs": [],
      "source": [
        "# Task 9: Use a module\n",
        "# Import the random module\n",
        "# Print a random integer between 1 and 10\n"
      ]
    },
    {
      "cell_type": "markdown",
      "id": "a09909d9",
      "metadata": {
        "id": "a09909d9"
      },
      "source": [
        "## 10 Lambda Functions"
      ]
    },
    {
      "cell_type": "code",
      "execution_count": null,
      "id": "8183ccd9",
      "metadata": {
        "id": "8183ccd9"
      },
      "outputs": [],
      "source": [
        "# Example: A lambda function\n",
        "square = lambda x: x * x\n",
        "print(square(4))"
      ]
    },
    {
      "cell_type": "code",
      "execution_count": null,
      "id": "ce93e91d",
      "metadata": {
        "id": "ce93e91d"
      },
      "outputs": [],
      "source": [
        "# Task 10: Write your own lambda\n",
        "# Create a lambda function that adds 10 to a number and test it\n"
      ]
    },
    {
      "cell_type": "markdown",
      "id": "986ec405",
      "metadata": {
        "id": "986ec405"
      },
      "source": [
        "## 11 Calculator Project"
      ]
    },
    {
      "cell_type": "code",
      "execution_count": null,
      "id": "00b7d5eb",
      "metadata": {
        "id": "00b7d5eb"
      },
      "outputs": [],
      "source": [
        "# Example: Simple calculator\n",
        "def calculator(x, y, operator):\n",
        "    if operator == \"+\":\n",
        "        return x + y\n",
        "    elif operator == \"-\":\n",
        "        return x - y\n",
        "    elif operator == \"*\":\n",
        "        return x * y\n",
        "    elif operator == \"/\":\n",
        "        return x / y\n",
        "\n",
        "print(calculator(10, 5, \"+\"))"
      ]
    },
    {
      "cell_type": "code",
      "execution_count": null,
      "id": "47b2f5af",
      "metadata": {
        "id": "47b2f5af"
      },
      "outputs": [],
      "source": [
        "# Task 11: Expand the calculator\n",
        "# Add handling for exponents (x ** y) and modulus (x % y)\n"
      ]
    },
    {
      "cell_type": "code",
      "source": [],
      "metadata": {
        "id": "C8ssAkfM8qlT"
      },
      "id": "C8ssAkfM8qlT",
      "execution_count": null,
      "outputs": []
    }
  ],
  "metadata": {
    "colab": {
      "provenance": [],
      "include_colab_link": true
    },
    "language_info": {
      "name": "python"
    },
    "kernelspec": {
      "name": "python3",
      "display_name": "Python 3"
    }
  },
  "nbformat": 4,
  "nbformat_minor": 5
}