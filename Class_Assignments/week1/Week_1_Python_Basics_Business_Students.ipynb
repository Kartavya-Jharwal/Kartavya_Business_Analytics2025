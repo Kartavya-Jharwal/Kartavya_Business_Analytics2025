{
  "cells": [
    {
      "cell_type": "markdown",
      "id": "df7f8974",
      "metadata": {
        "colab_type": "text",
        "id": "view-in-github"
      },
      "source": [
        "<a href=\"https://colab.research.google.com/github/Kartavya-Jharwal/Kartavya_Business_Analytics2025/blob/main/Python_Basics_Business_Students.ipynb\" target=\"_parent\"><img src=\"https://colab.research.google.com/assets/colab-badge.svg\" alt=\"Open In Colab\"/></a>"
      ]
    },
    {
      "cell_type": "markdown",
      "id": "e94a8672",
      "metadata": {
        "id": "e94a8672"
      },
      "source": [
        "# Python Basics for Business Students\n",
        "Welcome to your first Python notebook. Each section includes an example followed by a task for you to complete."
      ]
    },
    {
      "cell_type": "code",
      "execution_count": 2,
      "id": "m2vMY95jfOCK",
      "metadata": {
        "colab": {
          "base_uri": "https://localhost:8080/"
        },
        "id": "m2vMY95jfOCK",
        "outputId": "5ea82b3d-b5fe-4530-f0d1-e7bcfadb4001"
      },
      "outputs": [
        {
          "name": "stdout",
          "output_type": "stream",
          "text": [
            "Hello world!\n"
          ]
        }
      ],
      "source": [
        "print(\"Hello world!\")"
      ]
    },
    {
      "cell_type": "markdown",
      "id": "3eed0e13",
      "metadata": {
        "id": "3eed0e13"
      },
      "source": [
        "## 01 Variables"
      ]
    },
    {
      "cell_type": "code",
      "execution_count": 3,
      "id": "3881bcfe",
      "metadata": {
        "colab": {
          "base_uri": "https://localhost:8080/"
        },
        "id": "3881bcfe",
        "outputId": "fc4b90ad-c3cb-47dc-f3f0-f087b57c838a"
      },
      "outputs": [
        {
          "name": "stdout",
          "output_type": "stream",
          "text": [
            "Kartavya 18 True\n"
          ]
        }
      ],
      "source": [
        "# Example: Declaring variables\n",
        "name = \"Kartavya\"\n",
        "age = 18\n",
        "is_student = True\n",
        "print(name, age, is_student)"
      ]
    },
    {
      "cell_type": "code",
      "execution_count": 9,
      "id": "96764c8b",
      "metadata": {
        "colab": {
          "base_uri": "https://localhost:8080/"
        },
        "id": "96764c8b",
        "outputId": "155d4bec-81ce-480e-a99d-05042ebfd8e2"
      },
      "outputs": [
        {
          "name": "stdout",
          "output_type": "stream",
          "text": [
            "London 2006 True\n"
          ]
        }
      ],
      "source": [
        "# Task 1: Declare your own variables\n",
        "# Create a variable called city with your city name\n",
        "city=\"London\"\n",
        "# Create a variable called year_of_birth with your birth year\n",
        "year_of_birth=2006\n",
        "# Create a boolean variable is_enrolled and set it to True or False\n",
        "is_enrolled=True\n",
        "print(city, year_of_birth, is_enrolled)"
      ]
    },
    {
      "cell_type": "markdown",
      "id": "a5c94ade",
      "metadata": {
        "id": "a5c94ade"
      },
      "source": [
        "## 02 Data Types"
      ]
    },
    {
      "cell_type": "code",
      "execution_count": 10,
      "id": "d98fe526",
      "metadata": {
        "colab": {
          "base_uri": "https://localhost:8080/"
        },
        "id": "d98fe526",
        "outputId": "d9acf064-a721-4b69-b318-49e091487807"
      },
      "outputs": [
        {
          "name": "stdout",
          "output_type": "stream",
          "text": [
            "<class 'int'> <class 'float'> <class 'str'>\n"
          ]
        }
      ],
      "source": [
        "# Example: Checking data types\n",
        "x = 5\n",
        "y = 3.14\n",
        "z = \"Python\"\n",
        "print(type(x), type(y), type(z))"
      ]
    },
    {
      "cell_type": "code",
      "execution_count": 11,
      "id": "2f65a157",
      "metadata": {
        "id": "2f65a157"
      },
      "outputs": [],
      "source": [
        "# Task 2: Check the type of the following values\n",
        "# Assign your full name to a variable and print its type\n",
        "# Assign your age (as a decimal) to a variable and print its type\n"
      ]
    },
    {
      "cell_type": "code",
      "execution_count": 13,
      "id": "c9DfvsS_8SVW",
      "metadata": {
        "colab": {
          "base_uri": "https://localhost:8080/"
        },
        "id": "c9DfvsS_8SVW",
        "outputId": "883ac1a7-8c8e-4d4e-a7e3-e3c0002411b7"
      },
      "outputs": [
        {
          "name": "stdout",
          "output_type": "stream",
          "text": [
            "18.833675564681723\n",
            "<class 'str'> <class 'float'> 18.833675564681723\n"
          ]
        }
      ],
      "source": [
        "# Assign your full name to a variable\n",
        "full_name = \"Kartavya Jharwal\"\n",
        "print(age)\n",
        "from datetime import datetime; age = (datetime.now() - datetime(2006, 11, 8)).days / 365.25\n",
        "print(type(full_name),type(age),age)"
      ]
    },
    {
      "cell_type": "markdown",
      "id": "2126a562",
      "metadata": {
        "id": "2126a562"
      },
      "source": [
        "## 03 Type Conversion"
      ]
    },
    {
      "cell_type": "code",
      "execution_count": 26,
      "id": "56e93d35",
      "metadata": {
        "colab": {
          "base_uri": "https://localhost:8080/"
        },
        "id": "56e93d35",
        "outputId": "8e1ad1b3-57f3-41bc-a1d4-d44663994839"
      },
      "outputs": [
        {
          "name": "stdout",
          "output_type": "stream",
          "text": [
            "123 123 123.0\n"
          ]
        }
      ],
      "source": [
        "# Example: Converting data types\n",
        "a = \"123\"\n",
        "b = int(a)\n",
        "c = float(b)\n",
        "print(a, b, c)"
      ]
    },
    {
      "cell_type": "code",
      "execution_count": 34,
      "id": "ca555e5e",
      "metadata": {
        "colab": {
          "base_uri": "https://localhost:8080/"
        },
        "id": "ca555e5e",
        "outputId": "ca666848-a8ff-4258-8d00-4227b2333f40"
      },
      "outputs": [
        {
          "name": "stdout",
          "output_type": "stream",
          "text": [
            "Converted to int: 9\n",
            "List as string: ['apple', 'banana', 'cherry']\n"
          ]
        }
      ],
      "source": [
        "# Task 3: Convert and print values\n",
        "# Convert a number from float to int\n",
        "# Convert a list into a string using str()\n",
        "# Convert a float to an integer\n",
        "my_float = 9.87\n",
        "my_int = int(my_float)\n",
        "print(\"Converted to int:\", my_int)\n",
        "\n",
        "# Convert a list into a string\n",
        "my_list = [\"apple\", \"banana\", \"cherry\"]\n",
        "my_string = str(my_list)\n",
        "print(\"List as string:\", my_string)\n"
      ]
    },
    {
      "cell_type": "markdown",
      "id": "f9aff86f",
      "metadata": {
        "id": "f9aff86f"
      },
      "source": [
        "## 04 Lists"
      ]
    },
    {
      "cell_type": "code",
      "execution_count": 27,
      "id": "46dcdec7",
      "metadata": {
        "colab": {
          "base_uri": "https://localhost:8080/"
        },
        "id": "46dcdec7",
        "outputId": "b7e7c8a5-b032-464c-b2d3-ba371b8b8177"
      },
      "outputs": [
        {
          "name": "stdout",
          "output_type": "stream",
          "text": [
            "['apple', 'banana', 'cherry', 'orange']\n"
          ]
        }
      ],
      "source": [
        "# Example: Creating and modifying a list\n",
        "fruits = [\"apple\", \"banana\", \"cherry\"]\n",
        "fruits.append(\"orange\")\n",
        "print(fruits)"
      ]
    },
    {
      "cell_type": "code",
      "execution_count": 35,
      "id": "0609167c",
      "metadata": {
        "colab": {
          "base_uri": "https://localhost:8080/"
        },
        "id": "0609167c",
        "outputId": "50df99d6-21c2-491c-9c8f-1ff0bb658620"
      },
      "outputs": [
        {
          "name": "stdout",
          "output_type": "stream",
          "text": [
            "['painting', 'quantum computing', 'reading', 'world domination']\n"
          ]
        }
      ],
      "source": [
        "# Task 4: Create and modify your own list\n",
        "# Create a list of 3 hobbies\n",
        "# Add a fourth hobby using append()\n",
        "hobbies = [\"painting\", \"quantum computing\", \"reading\"]\n",
        "\n",
        "# Add a fourth hobby using append()\n",
        "hobbies.append(\"world domination\")\n",
        "\n",
        "# Print the updated list\n",
        "print(hobbies)\n"
      ]
    },
    {
      "cell_type": "markdown",
      "id": "b75937d7",
      "metadata": {
        "id": "b75937d7"
      },
      "source": [
        "## 05 Conditional Statements"
      ]
    },
    {
      "cell_type": "code",
      "execution_count": 28,
      "id": "1adf824e",
      "metadata": {
        "colab": {
          "base_uri": "https://localhost:8080/"
        },
        "id": "1adf824e",
        "outputId": "5a736287-7682-429c-92a1-e5fd3cb8962f"
      },
      "outputs": [
        {
          "name": "stdout",
          "output_type": "stream",
          "text": [
            "Pass\n"
          ]
        }
      ],
      "source": [
        "# Example: If-Else condition\n",
        "score = 85\n",
        "if score >= 50:\n",
        "    print(\"Pass\")\n",
        "else:\n",
        "    print(\"Fail\")"
      ]
    },
    {
      "cell_type": "code",
      "execution_count": 36,
      "id": "4b46b5d2",
      "metadata": {
        "colab": {
          "base_uri": "https://localhost:8080/"
        },
        "id": "4b46b5d2",
        "outputId": "fec08b15-729e-4e7f-aa36-a870a7fe101c"
      },
      "outputs": [
        {
          "name": "stdout",
          "output_type": "stream",
          "text": [
            "Adult\n"
          ]
        }
      ],
      "source": [
        "# Task 5: Write your own conditional\n",
        "# Write an if-else block that checks if your age is over 18\n",
        "# Print \"Adult\" or \"Minor\" accordingly\n",
        "age = 18.8\n",
        "if age > 18:\n",
        "    print(\"Adult\")\n",
        "else:\n",
        "    print(\"Minor\")\n"
      ]
    },
    {
      "cell_type": "markdown",
      "id": "1ee8d659",
      "metadata": {
        "id": "1ee8d659"
      },
      "source": [
        "## 06 Loops"
      ]
    },
    {
      "cell_type": "code",
      "execution_count": 25,
      "id": "a91fd094",
      "metadata": {
        "colab": {
          "base_uri": "https://localhost:8080/"
        },
        "id": "a91fd094",
        "outputId": "911e28ea-4392-45d1-b87d-3f181b2c4f37"
      },
      "outputs": [
        {
          "name": "stdout",
          "output_type": "stream",
          "text": [
            "Iteration 0\n",
            "Iteration 1\n",
            "Iteration 2\n"
          ]
        }
      ],
      "source": [
        "# Example: For loop\n",
        "for i in range(3):\n",
        "    print(\"Iteration\", i)"
      ]
    },
    {
      "cell_type": "code",
      "execution_count": 29,
      "id": "46d4018f",
      "metadata": {
        "colab": {
          "base_uri": "https://localhost:8080/"
        },
        "id": "46d4018f",
        "outputId": "b8f1a8a5-4c32-4ac2-8e60-0e3015e77166"
      },
      "outputs": [
        {
          "name": "stdout",
          "output_type": "stream",
          "text": [
            "Truffle-infused Wild Mushroom Risotto\n",
            "Stuffed Bell Peppers with Quinoa and Herbs\n",
            "Butternut Squash Ravioli in Mornet Sauce\n"
          ]
        }
      ],
      "source": [
        "# Task 6: Write a for loop\n",
        "# Loop through a list of your 3 favorite foods and print each one\n",
        "food = [\"Truffle-infused Wild Mushroom Risotto\",\"Stuffed Bell Peppers with Quinoa and Herbs\",\"Butternut Squash Ravioli in Mornet Sauce\"]\n",
        "\n",
        "for meal in food:\n",
        "    print(meal)"
      ]
    },
    {
      "cell_type": "markdown",
      "id": "97b0f29c",
      "metadata": {
        "id": "97b0f29c"
      },
      "source": [
        "## 07 Functions"
      ]
    },
    {
      "cell_type": "code",
      "execution_count": 24,
      "id": "b80d864f",
      "metadata": {
        "colab": {
          "base_uri": "https://localhost:8080/"
        },
        "id": "b80d864f",
        "outputId": "bc4fed35-b906-4f38-c85e-f6f00e94d932"
      },
      "outputs": [
        {
          "name": "stdout",
          "output_type": "stream",
          "text": [
            "Hello, Kartavya\n"
          ]
        }
      ],
      "source": [
        "# Example: A function to greet\n",
        "def greet(name):\n",
        "    return \"Hello, \" + name\n",
        "\n",
        "print(greet(\"Kartavya\"))"
      ]
    },
    {
      "cell_type": "code",
      "execution_count": 33,
      "id": "f3dbeebe",
      "metadata": {
        "colab": {
          "base_uri": "https://localhost:8080/"
        },
        "id": "f3dbeebe",
        "outputId": "5044b205-1851-4b6b-a1ad-cf199fddc9b7"
      },
      "outputs": [
        {
          "name": "stdout",
          "output_type": "stream",
          "text": [
            "Hello Kartavya, you are 18 years old!\n"
          ]
        }
      ],
      "source": [
        "# Task 7: Write your own function\n",
        "# Define a function that takes your name and age, and returns a greeting\n",
        "def greet_user(name, age):\n",
        "    return \"Hello \" + name + \", you are \" + age +\" years old!\"\n",
        "\n",
        "# Example usage\n",
        "print(greet_user(\"Kartavya\", \"18\"))\n"
      ]
    },
    {
      "cell_type": "markdown",
      "id": "cab8e9f8",
      "metadata": {
        "id": "cab8e9f8"
      },
      "source": [
        "## 08 Built in Functions"
      ]
    },
    {
      "cell_type": "code",
      "execution_count": 20,
      "id": "583aa044",
      "metadata": {
        "colab": {
          "base_uri": "https://localhost:8080/"
        },
        "id": "583aa044",
        "outputId": "8d4c65b1-6895-4440-efe3-ba7ba7e80653"
      },
      "outputs": [
        {
          "name": "stdout",
          "output_type": "stream",
          "text": [
            "3 30\n"
          ]
        }
      ],
      "source": [
        "# Example: Using built-in functions\n",
        "numbers = [5, 10, 15]\n",
        "print(len(numbers), sum(numbers))"
      ]
    },
    {
      "cell_type": "code",
      "execution_count": 22,
      "id": "a6652f99",
      "metadata": {
        "colab": {
          "base_uri": "https://localhost:8080/"
        },
        "id": "a6652f99",
        "outputId": "217d1580-3595-4406-a337-8c3f62089cc5"
      },
      "outputs": [
        {
          "name": "stdout",
          "output_type": "stream",
          "text": [
            "Minimum: 7 \n",
            "Maximum: 45 \n",
            "Sum: 87\n"
          ]
        }
      ],
      "source": [
        "# Task 8: Use built-in functions\n",
        "# Create a list of 4 numbers and use min(), max(), and sum() to analyze it\n",
        "numbers = [12, 45, 7, 23]\n",
        "print(\"Minimum:\", min(numbers), \"\\nMaximum:\", max(numbers), \"\\nSum:\", sum(numbers))"
      ]
    },
    {
      "cell_type": "markdown",
      "id": "f3e29987",
      "metadata": {
        "id": "f3e29987"
      },
      "source": [
        "## 09 Importing Modules"
      ]
    },
    {
      "cell_type": "code",
      "execution_count": 19,
      "id": "363cf6a4",
      "metadata": {
        "colab": {
          "base_uri": "https://localhost:8080/"
        },
        "id": "363cf6a4",
        "outputId": "e41b0be5-92e6-4a0e-fb79-60bb4d5158bd"
      },
      "outputs": [
        {
          "name": "stdout",
          "output_type": "stream",
          "text": [
            "4.0\n"
          ]
        }
      ],
      "source": [
        "# Example: Importing and using the math module\n",
        "import math\n",
        "print(math.sqrt(16))"
      ]
    },
    {
      "cell_type": "code",
      "execution_count": 18,
      "id": "bc2147c7",
      "metadata": {
        "colab": {
          "base_uri": "https://localhost:8080/"
        },
        "id": "bc2147c7",
        "outputId": "afa96b73-299d-480c-b73a-330151b21fb3"
      },
      "outputs": [
        {
          "name": "stdout",
          "output_type": "stream",
          "text": [
            "6\n"
          ]
        }
      ],
      "source": [
        "# Task 9: Use a module\n",
        "# Import the random module\n",
        "# Print a random integer between 1 and 10\n",
        "import random\n",
        "print(random.randint(1, 10))"
      ]
    },
    {
      "cell_type": "markdown",
      "id": "a09909d9",
      "metadata": {
        "id": "a09909d9"
      },
      "source": [
        "## 10 Lambda Functions"
      ]
    },
    {
      "cell_type": "code",
      "execution_count": 16,
      "id": "8183ccd9",
      "metadata": {
        "colab": {
          "base_uri": "https://localhost:8080/"
        },
        "id": "8183ccd9",
        "outputId": "79593714-9570-4808-f3a5-f09b41b3b1cf"
      },
      "outputs": [
        {
          "name": "stdout",
          "output_type": "stream",
          "text": [
            "16\n"
          ]
        }
      ],
      "source": [
        "# Example: A lambda function\n",
        "square = lambda x: x * x\n",
        "print(square(4))"
      ]
    },
    {
      "cell_type": "code",
      "execution_count": 17,
      "id": "ce93e91d",
      "metadata": {
        "colab": {
          "base_uri": "https://localhost:8080/"
        },
        "id": "ce93e91d",
        "outputId": "838b677f-3322-4d4e-e889-dcb7d5d91f2e"
      },
      "outputs": [
        {
          "name": "stdout",
          "output_type": "stream",
          "text": [
            "15\n"
          ]
        }
      ],
      "source": [
        "# Task 10: Write your own lambda\n",
        "# Create a lambda function that adds 10 to a number and test it\n",
        "add_ten = lambda x: x + 10\n",
        "print(add_ten(5))"
      ]
    },
    {
      "cell_type": "markdown",
      "id": "986ec405",
      "metadata": {
        "id": "986ec405"
      },
      "source": [
        "## 11 Calculator Project"
      ]
    },
    {
      "cell_type": "code",
      "execution_count": 15,
      "id": "00b7d5eb",
      "metadata": {
        "colab": {
          "base_uri": "https://localhost:8080/"
        },
        "id": "00b7d5eb",
        "outputId": "72079709-69f7-402b-a3c4-897ccaeefc38"
      },
      "outputs": [
        {
          "name": "stdout",
          "output_type": "stream",
          "text": [
            "15\n"
          ]
        }
      ],
      "source": [
        "# Example: Simple calculator\n",
        "def calculator(x, y, operator):\n",
        "    if operator == \"+\":\n",
        "        return x + y\n",
        "    elif operator == \"-\":\n",
        "        return x - y\n",
        "    elif operator == \"*\":\n",
        "        return x * y\n",
        "    elif operator == \"/\":\n",
        "        return x / y\n",
        "\n",
        "print(calculator(10, 5, \"+\"))"
      ]
    },
    {
      "cell_type": "code",
      "execution_count": 14,
      "id": "47b2f5af",
      "metadata": {
        "colab": {
          "base_uri": "https://localhost:8080/"
        },
        "id": "47b2f5af",
        "outputId": "2235bb26-96b0-4897-da5a-36429cacff1e"
      },
      "outputs": [
        {
          "name": "stdout",
          "output_type": "stream",
          "text": [
            "15\n",
            "Error: Division by zero\n",
            "8\n",
            "1\n",
            "3\n"
          ]
        }
      ],
      "source": [
        "# Task 11: Expand the calculator\n",
        "# Add handling for exponents (x ** y) and modulus (x % y)\n",
        "def calculator(x, y, operator):\n",
        "    if operator == \"+\":\n",
        "        return x + y\n",
        "    elif operator == \"-\":\n",
        "        return x - y\n",
        "    elif operator == \"*\":\n",
        "        return x * y\n",
        "    elif operator == \"/\":\n",
        "        return x / y if y != 0 else \"Error: Division by zero\"\n",
        "    elif operator == \"**\":\n",
        "        return x ** y\n",
        "    elif operator == \"%\":\n",
        "        return x % y\n",
        "    elif operator == \"//\":\n",
        "        return x // y if y != 0 else \"Error: Division by zero\"\n",
        "    else:\n",
        "        return \"Error: Unsupported operator\"\n",
        "\n",
        "print(calculator(10, 5, \"+\"))\n",
        "print(calculator(10, 0, \"/\"))\n",
        "print(calculator(2, 3, \"**\"))\n",
        "print(calculator(10, 3, \"%\"))\n",
        "print(calculator(10, 3, \"//\"))"
      ]
    },
    {
      "cell_type": "code",
      "execution_count": 8,
      "id": "C8ssAkfM8qlT",
      "metadata": {
        "colab": {
          "base_uri": "https://localhost:8080/"
        },
        "id": "C8ssAkfM8qlT",
        "outputId": "2206445b-5ade-4050-f2ab-22e0a8e070f7"
      },
      "outputs": [
        {
          "name": "stdout",
          "output_type": "stream",
          "text": [
            "0.30000000000000004\n"
          ]
        }
      ],
      "source": [
        "print(0.1+0.2)"
      ]
    }
  ],
  "metadata": {
    "colab": {
      "include_colab_link": true,
      "provenance": []
    },
    "kernelspec": {
      "display_name": "Python 3",
      "name": "python3"
    },
    "language_info": {
      "name": "python"
    }
  },
  "nbformat": 4,
  "nbformat_minor": 5
}
