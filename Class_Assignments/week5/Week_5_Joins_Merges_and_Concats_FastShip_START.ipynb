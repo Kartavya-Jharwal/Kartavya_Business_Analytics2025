{
  "nbformat": 4,
  "nbformat_minor": 0,
  "metadata": {
    "colab": {
      "provenance": [],
      "include_colab_link": true
    },
    "kernelspec": {
      "name": "python3",
      "display_name": "Python 3"
    },
    "language_info": {
      "name": "python"
    }
  },
  "cells": [
    {
      "cell_type": "markdown",
      "metadata": {
        "id": "view-in-github",
        "colab_type": "text"
      },
      "source": [
        "<a href=\"https://colab.research.google.com/github/Kartavya-Jharwal/Kartavya_Business_Analytics2025/blob/main/Class_Assignments/week5/Week_5_Joins_Merges_and_Concats_FastShip_START.ipynb\" target=\"_parent\"><img src=\"https://colab.research.google.com/assets/colab-badge.svg\" alt=\"Open In Colab\"/></a>"
      ]
    },
    {
      "cell_type": "code",
      "source": [
        "import pandas as pd\n",
        "import numpy as np\n",
        "import matplotlib.pyplot as plt\n",
        "import seaborn as sns\n",
        "from datetime import datetime, timedelta\n",
        "from IPython.display import display"
      ],
      "metadata": {
        "id": "XfPdImqNKL6Y"
      },
      "execution_count": null,
      "outputs": []
    },
    {
      "cell_type": "markdown",
      "source": [
        "#PART 1: BASIC JOINS AND MERGES\n",
        "\n",
        "These exercises cover fundamental join operations with clear edge cases and detailed explanations.\n"
      ],
      "metadata": {
        "id": "ud1Jqw3uEOiW"
      }
    },
    {
      "cell_type": "markdown",
      "source": [
        "## Key Concepts\n"
      ],
      "metadata": {
        "id": "rPE3zU6uIXfU"
      }
    },
    {
      "cell_type": "markdown",
      "source": [
        "###**1. Merge — `pd.merge()`**\n",
        "\n",
        "Most versatile method for database-style joins\n",
        "\n",
        "Syntax: `pd.merge(left, right, how='inner', on=None, left_on=None, right_on=None)`\n",
        "\n",
        "Best for:\n",
        "* Combining DataFrames based on common columns or indices\n",
        "\n"
      ],
      "metadata": {
        "id": "Q_kn3pFyPWce"
      }
    },
    {
      "cell_type": "markdown",
      "source": [
        "Let's create a couple of dataframes to bring together in differnet ways"
      ],
      "metadata": {
        "id": "H1-rMZa-M7Nm"
      }
    },
    {
      "cell_type": "code",
      "execution_count": null,
      "metadata": {
        "colab": {
          "base_uri": "https://localhost:8080/",
          "height": 448
        },
        "id": "XSZr34HIJ9te",
        "outputId": "3c2a52a4-0791-4c4d-ba31-42196ce1d571",
        "cellView": "form"
      },
      "outputs": [
        {
          "output_type": "stream",
          "name": "stdout",
          "text": [
            "The first DataFrame\n"
          ]
        },
        {
          "output_type": "display_data",
          "data": {
            "text/plain": [
              "         fruit  market_price\n",
              "0        apple         26.99\n",
              "1       banana         29.99\n",
              "2      avocado         41.99\n",
              "3       grapes         23.99\n",
              "4  blueberries         26.99"
            ],
            "text/html": [
              "\n",
              "  <div id=\"df-bade2df1-6f10-4da1-b557-3f7e08e2561d\" class=\"colab-df-container\">\n",
              "    <div>\n",
              "<style scoped>\n",
              "    .dataframe tbody tr th:only-of-type {\n",
              "        vertical-align: middle;\n",
              "    }\n",
              "\n",
              "    .dataframe tbody tr th {\n",
              "        vertical-align: top;\n",
              "    }\n",
              "\n",
              "    .dataframe thead th {\n",
              "        text-align: right;\n",
              "    }\n",
              "</style>\n",
              "<table border=\"1\" class=\"dataframe\">\n",
              "  <thead>\n",
              "    <tr style=\"text-align: right;\">\n",
              "      <th></th>\n",
              "      <th>fruit</th>\n",
              "      <th>market_price</th>\n",
              "    </tr>\n",
              "  </thead>\n",
              "  <tbody>\n",
              "    <tr>\n",
              "      <th>0</th>\n",
              "      <td>apple</td>\n",
              "      <td>26.99</td>\n",
              "    </tr>\n",
              "    <tr>\n",
              "      <th>1</th>\n",
              "      <td>banana</td>\n",
              "      <td>29.99</td>\n",
              "    </tr>\n",
              "    <tr>\n",
              "      <th>2</th>\n",
              "      <td>avocado</td>\n",
              "      <td>41.99</td>\n",
              "    </tr>\n",
              "    <tr>\n",
              "      <th>3</th>\n",
              "      <td>grapes</td>\n",
              "      <td>23.99</td>\n",
              "    </tr>\n",
              "    <tr>\n",
              "      <th>4</th>\n",
              "      <td>blueberries</td>\n",
              "      <td>26.99</td>\n",
              "    </tr>\n",
              "  </tbody>\n",
              "</table>\n",
              "</div>\n",
              "    <div class=\"colab-df-buttons\">\n",
              "\n",
              "  <div class=\"colab-df-container\">\n",
              "    <button class=\"colab-df-convert\" onclick=\"convertToInteractive('df-bade2df1-6f10-4da1-b557-3f7e08e2561d')\"\n",
              "            title=\"Convert this dataframe to an interactive table.\"\n",
              "            style=\"display:none;\">\n",
              "\n",
              "  <svg xmlns=\"http://www.w3.org/2000/svg\" height=\"24px\" viewBox=\"0 -960 960 960\">\n",
              "    <path d=\"M120-120v-720h720v720H120Zm60-500h600v-160H180v160Zm220 220h160v-160H400v160Zm0 220h160v-160H400v160ZM180-400h160v-160H180v160Zm440 0h160v-160H620v160ZM180-180h160v-160H180v160Zm440 0h160v-160H620v160Z\"/>\n",
              "  </svg>\n",
              "    </button>\n",
              "\n",
              "  <style>\n",
              "    .colab-df-container {\n",
              "      display:flex;\n",
              "      gap: 12px;\n",
              "    }\n",
              "\n",
              "    .colab-df-convert {\n",
              "      background-color: #E8F0FE;\n",
              "      border: none;\n",
              "      border-radius: 50%;\n",
              "      cursor: pointer;\n",
              "      display: none;\n",
              "      fill: #1967D2;\n",
              "      height: 32px;\n",
              "      padding: 0 0 0 0;\n",
              "      width: 32px;\n",
              "    }\n",
              "\n",
              "    .colab-df-convert:hover {\n",
              "      background-color: #E2EBFA;\n",
              "      box-shadow: 0px 1px 2px rgba(60, 64, 67, 0.3), 0px 1px 3px 1px rgba(60, 64, 67, 0.15);\n",
              "      fill: #174EA6;\n",
              "    }\n",
              "\n",
              "    .colab-df-buttons div {\n",
              "      margin-bottom: 4px;\n",
              "    }\n",
              "\n",
              "    [theme=dark] .colab-df-convert {\n",
              "      background-color: #3B4455;\n",
              "      fill: #D2E3FC;\n",
              "    }\n",
              "\n",
              "    [theme=dark] .colab-df-convert:hover {\n",
              "      background-color: #434B5C;\n",
              "      box-shadow: 0px 1px 3px 1px rgba(0, 0, 0, 0.15);\n",
              "      filter: drop-shadow(0px 1px 2px rgba(0, 0, 0, 0.3));\n",
              "      fill: #FFFFFF;\n",
              "    }\n",
              "  </style>\n",
              "\n",
              "    <script>\n",
              "      const buttonEl =\n",
              "        document.querySelector('#df-bade2df1-6f10-4da1-b557-3f7e08e2561d button.colab-df-convert');\n",
              "      buttonEl.style.display =\n",
              "        google.colab.kernel.accessAllowed ? 'block' : 'none';\n",
              "\n",
              "      async function convertToInteractive(key) {\n",
              "        const element = document.querySelector('#df-bade2df1-6f10-4da1-b557-3f7e08e2561d');\n",
              "        const dataTable =\n",
              "          await google.colab.kernel.invokeFunction('convertToInteractive',\n",
              "                                                    [key], {});\n",
              "        if (!dataTable) return;\n",
              "\n",
              "        const docLinkHtml = 'Like what you see? Visit the ' +\n",
              "          '<a target=\"_blank\" href=https://colab.research.google.com/notebooks/data_table.ipynb>data table notebook</a>'\n",
              "          + ' to learn more about interactive tables.';\n",
              "        element.innerHTML = '';\n",
              "        dataTable['output_type'] = 'display_data';\n",
              "        await google.colab.output.renderOutput(dataTable, element);\n",
              "        const docLink = document.createElement('div');\n",
              "        docLink.innerHTML = docLinkHtml;\n",
              "        element.appendChild(docLink);\n",
              "      }\n",
              "    </script>\n",
              "  </div>\n",
              "\n",
              "\n",
              "<div id=\"df-13849175-28ac-4ad6-b167-20b901c0da64\">\n",
              "  <button class=\"colab-df-quickchart\" onclick=\"quickchart('df-13849175-28ac-4ad6-b167-20b901c0da64')\"\n",
              "            title=\"Suggest charts\"\n",
              "            style=\"display:none;\">\n",
              "\n",
              "<svg xmlns=\"http://www.w3.org/2000/svg\" height=\"24px\"viewBox=\"0 0 24 24\"\n",
              "     width=\"24px\">\n",
              "    <g>\n",
              "        <path d=\"M19 3H5c-1.1 0-2 .9-2 2v14c0 1.1.9 2 2 2h14c1.1 0 2-.9 2-2V5c0-1.1-.9-2-2-2zM9 17H7v-7h2v7zm4 0h-2V7h2v10zm4 0h-2v-4h2v4z\"/>\n",
              "    </g>\n",
              "</svg>\n",
              "  </button>\n",
              "\n",
              "<style>\n",
              "  .colab-df-quickchart {\n",
              "      --bg-color: #E8F0FE;\n",
              "      --fill-color: #1967D2;\n",
              "      --hover-bg-color: #E2EBFA;\n",
              "      --hover-fill-color: #174EA6;\n",
              "      --disabled-fill-color: #AAA;\n",
              "      --disabled-bg-color: #DDD;\n",
              "  }\n",
              "\n",
              "  [theme=dark] .colab-df-quickchart {\n",
              "      --bg-color: #3B4455;\n",
              "      --fill-color: #D2E3FC;\n",
              "      --hover-bg-color: #434B5C;\n",
              "      --hover-fill-color: #FFFFFF;\n",
              "      --disabled-bg-color: #3B4455;\n",
              "      --disabled-fill-color: #666;\n",
              "  }\n",
              "\n",
              "  .colab-df-quickchart {\n",
              "    background-color: var(--bg-color);\n",
              "    border: none;\n",
              "    border-radius: 50%;\n",
              "    cursor: pointer;\n",
              "    display: none;\n",
              "    fill: var(--fill-color);\n",
              "    height: 32px;\n",
              "    padding: 0;\n",
              "    width: 32px;\n",
              "  }\n",
              "\n",
              "  .colab-df-quickchart:hover {\n",
              "    background-color: var(--hover-bg-color);\n",
              "    box-shadow: 0 1px 2px rgba(60, 64, 67, 0.3), 0 1px 3px 1px rgba(60, 64, 67, 0.15);\n",
              "    fill: var(--button-hover-fill-color);\n",
              "  }\n",
              "\n",
              "  .colab-df-quickchart-complete:disabled,\n",
              "  .colab-df-quickchart-complete:disabled:hover {\n",
              "    background-color: var(--disabled-bg-color);\n",
              "    fill: var(--disabled-fill-color);\n",
              "    box-shadow: none;\n",
              "  }\n",
              "\n",
              "  .colab-df-spinner {\n",
              "    border: 2px solid var(--fill-color);\n",
              "    border-color: transparent;\n",
              "    border-bottom-color: var(--fill-color);\n",
              "    animation:\n",
              "      spin 1s steps(1) infinite;\n",
              "  }\n",
              "\n",
              "  @keyframes spin {\n",
              "    0% {\n",
              "      border-color: transparent;\n",
              "      border-bottom-color: var(--fill-color);\n",
              "      border-left-color: var(--fill-color);\n",
              "    }\n",
              "    20% {\n",
              "      border-color: transparent;\n",
              "      border-left-color: var(--fill-color);\n",
              "      border-top-color: var(--fill-color);\n",
              "    }\n",
              "    30% {\n",
              "      border-color: transparent;\n",
              "      border-left-color: var(--fill-color);\n",
              "      border-top-color: var(--fill-color);\n",
              "      border-right-color: var(--fill-color);\n",
              "    }\n",
              "    40% {\n",
              "      border-color: transparent;\n",
              "      border-right-color: var(--fill-color);\n",
              "      border-top-color: var(--fill-color);\n",
              "    }\n",
              "    60% {\n",
              "      border-color: transparent;\n",
              "      border-right-color: var(--fill-color);\n",
              "    }\n",
              "    80% {\n",
              "      border-color: transparent;\n",
              "      border-right-color: var(--fill-color);\n",
              "      border-bottom-color: var(--fill-color);\n",
              "    }\n",
              "    90% {\n",
              "      border-color: transparent;\n",
              "      border-bottom-color: var(--fill-color);\n",
              "    }\n",
              "  }\n",
              "</style>\n",
              "\n",
              "  <script>\n",
              "    async function quickchart(key) {\n",
              "      const quickchartButtonEl =\n",
              "        document.querySelector('#' + key + ' button');\n",
              "      quickchartButtonEl.disabled = true;  // To prevent multiple clicks.\n",
              "      quickchartButtonEl.classList.add('colab-df-spinner');\n",
              "      try {\n",
              "        const charts = await google.colab.kernel.invokeFunction(\n",
              "            'suggestCharts', [key], {});\n",
              "      } catch (error) {\n",
              "        console.error('Error during call to suggestCharts:', error);\n",
              "      }\n",
              "      quickchartButtonEl.classList.remove('colab-df-spinner');\n",
              "      quickchartButtonEl.classList.add('colab-df-quickchart-complete');\n",
              "    }\n",
              "    (() => {\n",
              "      let quickchartButtonEl =\n",
              "        document.querySelector('#df-13849175-28ac-4ad6-b167-20b901c0da64 button');\n",
              "      quickchartButtonEl.style.display =\n",
              "        google.colab.kernel.accessAllowed ? 'block' : 'none';\n",
              "    })();\n",
              "  </script>\n",
              "</div>\n",
              "\n",
              "  <div id=\"id_7bfe60be-ddab-4b4e-8f6b-d662dc68fd94\">\n",
              "    <style>\n",
              "      .colab-df-generate {\n",
              "        background-color: #E8F0FE;\n",
              "        border: none;\n",
              "        border-radius: 50%;\n",
              "        cursor: pointer;\n",
              "        display: none;\n",
              "        fill: #1967D2;\n",
              "        height: 32px;\n",
              "        padding: 0 0 0 0;\n",
              "        width: 32px;\n",
              "      }\n",
              "\n",
              "      .colab-df-generate:hover {\n",
              "        background-color: #E2EBFA;\n",
              "        box-shadow: 0px 1px 2px rgba(60, 64, 67, 0.3), 0px 1px 3px 1px rgba(60, 64, 67, 0.15);\n",
              "        fill: #174EA6;\n",
              "      }\n",
              "\n",
              "      [theme=dark] .colab-df-generate {\n",
              "        background-color: #3B4455;\n",
              "        fill: #D2E3FC;\n",
              "      }\n",
              "\n",
              "      [theme=dark] .colab-df-generate:hover {\n",
              "        background-color: #434B5C;\n",
              "        box-shadow: 0px 1px 3px 1px rgba(0, 0, 0, 0.15);\n",
              "        filter: drop-shadow(0px 1px 2px rgba(0, 0, 0, 0.3));\n",
              "        fill: #FFFFFF;\n",
              "      }\n",
              "    </style>\n",
              "    <button class=\"colab-df-generate\" onclick=\"generateWithVariable('df_mkt')\"\n",
              "            title=\"Generate code using this dataframe.\"\n",
              "            style=\"display:none;\">\n",
              "\n",
              "  <svg xmlns=\"http://www.w3.org/2000/svg\" height=\"24px\"viewBox=\"0 0 24 24\"\n",
              "       width=\"24px\">\n",
              "    <path d=\"M7,19H8.4L18.45,9,17,7.55,7,17.6ZM5,21V16.75L18.45,3.32a2,2,0,0,1,2.83,0l1.4,1.43a1.91,1.91,0,0,1,.58,1.4,1.91,1.91,0,0,1-.58,1.4L9.25,21ZM18.45,9,17,7.55Zm-12,3A5.31,5.31,0,0,0,4.9,8.1,5.31,5.31,0,0,0,1,6.5,5.31,5.31,0,0,0,4.9,4.9,5.31,5.31,0,0,0,6.5,1,5.31,5.31,0,0,0,8.1,4.9,5.31,5.31,0,0,0,12,6.5,5.46,5.46,0,0,0,6.5,12Z\"/>\n",
              "  </svg>\n",
              "    </button>\n",
              "    <script>\n",
              "      (() => {\n",
              "      const buttonEl =\n",
              "        document.querySelector('#id_7bfe60be-ddab-4b4e-8f6b-d662dc68fd94 button.colab-df-generate');\n",
              "      buttonEl.style.display =\n",
              "        google.colab.kernel.accessAllowed ? 'block' : 'none';\n",
              "\n",
              "      buttonEl.onclick = () => {\n",
              "        google.colab.notebook.generateWithVariable('df_mkt');\n",
              "      }\n",
              "      })();\n",
              "    </script>\n",
              "  </div>\n",
              "\n",
              "    </div>\n",
              "  </div>\n"
            ],
            "application/vnd.google.colaboratory.intrinsic+json": {
              "type": "dataframe",
              "variable_name": "df_mkt",
              "summary": "{\n  \"name\": \"df_mkt\",\n  \"rows\": 5,\n  \"fields\": [\n    {\n      \"column\": \"fruit\",\n      \"properties\": {\n        \"dtype\": \"string\",\n        \"num_unique_values\": 5,\n        \"samples\": [\n          \"banana\",\n          \"blueberries\",\n          \"avocado\"\n        ],\n        \"semantic_type\": \"\",\n        \"description\": \"\"\n      }\n    },\n    {\n      \"column\": \"market_price\",\n      \"properties\": {\n        \"dtype\": \"number\",\n        \"std\": 7.035623639735146,\n        \"min\": 23.99,\n        \"max\": 41.99,\n        \"num_unique_values\": 4,\n        \"samples\": [\n          29.99,\n          23.99,\n          26.99\n        ],\n        \"semantic_type\": \"\",\n        \"description\": \"\"\n      }\n    }\n  ]\n}"
            }
          },
          "metadata": {}
        },
        {
          "output_type": "stream",
          "name": "stdout",
          "text": [
            "\n",
            "The second DataFrame\n"
          ]
        },
        {
          "output_type": "display_data",
          "data": {
            "text/plain": [
              "         fruit  wholesaler_price\n",
              "0       grapes             19.99\n",
              "1  blueberries             14.99\n",
              "2       banana             15.99\n",
              "3        apple             20.99\n",
              "4      avocado             30.99"
            ],
            "text/html": [
              "\n",
              "  <div id=\"df-f514272b-8d03-4b7d-9178-b691fb9b29ce\" class=\"colab-df-container\">\n",
              "    <div>\n",
              "<style scoped>\n",
              "    .dataframe tbody tr th:only-of-type {\n",
              "        vertical-align: middle;\n",
              "    }\n",
              "\n",
              "    .dataframe tbody tr th {\n",
              "        vertical-align: top;\n",
              "    }\n",
              "\n",
              "    .dataframe thead th {\n",
              "        text-align: right;\n",
              "    }\n",
              "</style>\n",
              "<table border=\"1\" class=\"dataframe\">\n",
              "  <thead>\n",
              "    <tr style=\"text-align: right;\">\n",
              "      <th></th>\n",
              "      <th>fruit</th>\n",
              "      <th>wholesaler_price</th>\n",
              "    </tr>\n",
              "  </thead>\n",
              "  <tbody>\n",
              "    <tr>\n",
              "      <th>0</th>\n",
              "      <td>grapes</td>\n",
              "      <td>19.99</td>\n",
              "    </tr>\n",
              "    <tr>\n",
              "      <th>1</th>\n",
              "      <td>blueberries</td>\n",
              "      <td>14.99</td>\n",
              "    </tr>\n",
              "    <tr>\n",
              "      <th>2</th>\n",
              "      <td>banana</td>\n",
              "      <td>15.99</td>\n",
              "    </tr>\n",
              "    <tr>\n",
              "      <th>3</th>\n",
              "      <td>apple</td>\n",
              "      <td>20.99</td>\n",
              "    </tr>\n",
              "    <tr>\n",
              "      <th>4</th>\n",
              "      <td>avocado</td>\n",
              "      <td>30.99</td>\n",
              "    </tr>\n",
              "  </tbody>\n",
              "</table>\n",
              "</div>\n",
              "    <div class=\"colab-df-buttons\">\n",
              "\n",
              "  <div class=\"colab-df-container\">\n",
              "    <button class=\"colab-df-convert\" onclick=\"convertToInteractive('df-f514272b-8d03-4b7d-9178-b691fb9b29ce')\"\n",
              "            title=\"Convert this dataframe to an interactive table.\"\n",
              "            style=\"display:none;\">\n",
              "\n",
              "  <svg xmlns=\"http://www.w3.org/2000/svg\" height=\"24px\" viewBox=\"0 -960 960 960\">\n",
              "    <path d=\"M120-120v-720h720v720H120Zm60-500h600v-160H180v160Zm220 220h160v-160H400v160Zm0 220h160v-160H400v160ZM180-400h160v-160H180v160Zm440 0h160v-160H620v160ZM180-180h160v-160H180v160Zm440 0h160v-160H620v160Z\"/>\n",
              "  </svg>\n",
              "    </button>\n",
              "\n",
              "  <style>\n",
              "    .colab-df-container {\n",
              "      display:flex;\n",
              "      gap: 12px;\n",
              "    }\n",
              "\n",
              "    .colab-df-convert {\n",
              "      background-color: #E8F0FE;\n",
              "      border: none;\n",
              "      border-radius: 50%;\n",
              "      cursor: pointer;\n",
              "      display: none;\n",
              "      fill: #1967D2;\n",
              "      height: 32px;\n",
              "      padding: 0 0 0 0;\n",
              "      width: 32px;\n",
              "    }\n",
              "\n",
              "    .colab-df-convert:hover {\n",
              "      background-color: #E2EBFA;\n",
              "      box-shadow: 0px 1px 2px rgba(60, 64, 67, 0.3), 0px 1px 3px 1px rgba(60, 64, 67, 0.15);\n",
              "      fill: #174EA6;\n",
              "    }\n",
              "\n",
              "    .colab-df-buttons div {\n",
              "      margin-bottom: 4px;\n",
              "    }\n",
              "\n",
              "    [theme=dark] .colab-df-convert {\n",
              "      background-color: #3B4455;\n",
              "      fill: #D2E3FC;\n",
              "    }\n",
              "\n",
              "    [theme=dark] .colab-df-convert:hover {\n",
              "      background-color: #434B5C;\n",
              "      box-shadow: 0px 1px 3px 1px rgba(0, 0, 0, 0.15);\n",
              "      filter: drop-shadow(0px 1px 2px rgba(0, 0, 0, 0.3));\n",
              "      fill: #FFFFFF;\n",
              "    }\n",
              "  </style>\n",
              "\n",
              "    <script>\n",
              "      const buttonEl =\n",
              "        document.querySelector('#df-f514272b-8d03-4b7d-9178-b691fb9b29ce button.colab-df-convert');\n",
              "      buttonEl.style.display =\n",
              "        google.colab.kernel.accessAllowed ? 'block' : 'none';\n",
              "\n",
              "      async function convertToInteractive(key) {\n",
              "        const element = document.querySelector('#df-f514272b-8d03-4b7d-9178-b691fb9b29ce');\n",
              "        const dataTable =\n",
              "          await google.colab.kernel.invokeFunction('convertToInteractive',\n",
              "                                                    [key], {});\n",
              "        if (!dataTable) return;\n",
              "\n",
              "        const docLinkHtml = 'Like what you see? Visit the ' +\n",
              "          '<a target=\"_blank\" href=https://colab.research.google.com/notebooks/data_table.ipynb>data table notebook</a>'\n",
              "          + ' to learn more about interactive tables.';\n",
              "        element.innerHTML = '';\n",
              "        dataTable['output_type'] = 'display_data';\n",
              "        await google.colab.output.renderOutput(dataTable, element);\n",
              "        const docLink = document.createElement('div');\n",
              "        docLink.innerHTML = docLinkHtml;\n",
              "        element.appendChild(docLink);\n",
              "      }\n",
              "    </script>\n",
              "  </div>\n",
              "\n",
              "\n",
              "<div id=\"df-c3f7bb66-4cad-482f-b3ac-5b3f1672a0c4\">\n",
              "  <button class=\"colab-df-quickchart\" onclick=\"quickchart('df-c3f7bb66-4cad-482f-b3ac-5b3f1672a0c4')\"\n",
              "            title=\"Suggest charts\"\n",
              "            style=\"display:none;\">\n",
              "\n",
              "<svg xmlns=\"http://www.w3.org/2000/svg\" height=\"24px\"viewBox=\"0 0 24 24\"\n",
              "     width=\"24px\">\n",
              "    <g>\n",
              "        <path d=\"M19 3H5c-1.1 0-2 .9-2 2v14c0 1.1.9 2 2 2h14c1.1 0 2-.9 2-2V5c0-1.1-.9-2-2-2zM9 17H7v-7h2v7zm4 0h-2V7h2v10zm4 0h-2v-4h2v4z\"/>\n",
              "    </g>\n",
              "</svg>\n",
              "  </button>\n",
              "\n",
              "<style>\n",
              "  .colab-df-quickchart {\n",
              "      --bg-color: #E8F0FE;\n",
              "      --fill-color: #1967D2;\n",
              "      --hover-bg-color: #E2EBFA;\n",
              "      --hover-fill-color: #174EA6;\n",
              "      --disabled-fill-color: #AAA;\n",
              "      --disabled-bg-color: #DDD;\n",
              "  }\n",
              "\n",
              "  [theme=dark] .colab-df-quickchart {\n",
              "      --bg-color: #3B4455;\n",
              "      --fill-color: #D2E3FC;\n",
              "      --hover-bg-color: #434B5C;\n",
              "      --hover-fill-color: #FFFFFF;\n",
              "      --disabled-bg-color: #3B4455;\n",
              "      --disabled-fill-color: #666;\n",
              "  }\n",
              "\n",
              "  .colab-df-quickchart {\n",
              "    background-color: var(--bg-color);\n",
              "    border: none;\n",
              "    border-radius: 50%;\n",
              "    cursor: pointer;\n",
              "    display: none;\n",
              "    fill: var(--fill-color);\n",
              "    height: 32px;\n",
              "    padding: 0;\n",
              "    width: 32px;\n",
              "  }\n",
              "\n",
              "  .colab-df-quickchart:hover {\n",
              "    background-color: var(--hover-bg-color);\n",
              "    box-shadow: 0 1px 2px rgba(60, 64, 67, 0.3), 0 1px 3px 1px rgba(60, 64, 67, 0.15);\n",
              "    fill: var(--button-hover-fill-color);\n",
              "  }\n",
              "\n",
              "  .colab-df-quickchart-complete:disabled,\n",
              "  .colab-df-quickchart-complete:disabled:hover {\n",
              "    background-color: var(--disabled-bg-color);\n",
              "    fill: var(--disabled-fill-color);\n",
              "    box-shadow: none;\n",
              "  }\n",
              "\n",
              "  .colab-df-spinner {\n",
              "    border: 2px solid var(--fill-color);\n",
              "    border-color: transparent;\n",
              "    border-bottom-color: var(--fill-color);\n",
              "    animation:\n",
              "      spin 1s steps(1) infinite;\n",
              "  }\n",
              "\n",
              "  @keyframes spin {\n",
              "    0% {\n",
              "      border-color: transparent;\n",
              "      border-bottom-color: var(--fill-color);\n",
              "      border-left-color: var(--fill-color);\n",
              "    }\n",
              "    20% {\n",
              "      border-color: transparent;\n",
              "      border-left-color: var(--fill-color);\n",
              "      border-top-color: var(--fill-color);\n",
              "    }\n",
              "    30% {\n",
              "      border-color: transparent;\n",
              "      border-left-color: var(--fill-color);\n",
              "      border-top-color: var(--fill-color);\n",
              "      border-right-color: var(--fill-color);\n",
              "    }\n",
              "    40% {\n",
              "      border-color: transparent;\n",
              "      border-right-color: var(--fill-color);\n",
              "      border-top-color: var(--fill-color);\n",
              "    }\n",
              "    60% {\n",
              "      border-color: transparent;\n",
              "      border-right-color: var(--fill-color);\n",
              "    }\n",
              "    80% {\n",
              "      border-color: transparent;\n",
              "      border-right-color: var(--fill-color);\n",
              "      border-bottom-color: var(--fill-color);\n",
              "    }\n",
              "    90% {\n",
              "      border-color: transparent;\n",
              "      border-bottom-color: var(--fill-color);\n",
              "    }\n",
              "  }\n",
              "</style>\n",
              "\n",
              "  <script>\n",
              "    async function quickchart(key) {\n",
              "      const quickchartButtonEl =\n",
              "        document.querySelector('#' + key + ' button');\n",
              "      quickchartButtonEl.disabled = true;  // To prevent multiple clicks.\n",
              "      quickchartButtonEl.classList.add('colab-df-spinner');\n",
              "      try {\n",
              "        const charts = await google.colab.kernel.invokeFunction(\n",
              "            'suggestCharts', [key], {});\n",
              "      } catch (error) {\n",
              "        console.error('Error during call to suggestCharts:', error);\n",
              "      }\n",
              "      quickchartButtonEl.classList.remove('colab-df-spinner');\n",
              "      quickchartButtonEl.classList.add('colab-df-quickchart-complete');\n",
              "    }\n",
              "    (() => {\n",
              "      let quickchartButtonEl =\n",
              "        document.querySelector('#df-c3f7bb66-4cad-482f-b3ac-5b3f1672a0c4 button');\n",
              "      quickchartButtonEl.style.display =\n",
              "        google.colab.kernel.accessAllowed ? 'block' : 'none';\n",
              "    })();\n",
              "  </script>\n",
              "</div>\n",
              "\n",
              "  <div id=\"id_50c82ed0-c5fe-46ff-add7-1d0fecf5b4c1\">\n",
              "    <style>\n",
              "      .colab-df-generate {\n",
              "        background-color: #E8F0FE;\n",
              "        border: none;\n",
              "        border-radius: 50%;\n",
              "        cursor: pointer;\n",
              "        display: none;\n",
              "        fill: #1967D2;\n",
              "        height: 32px;\n",
              "        padding: 0 0 0 0;\n",
              "        width: 32px;\n",
              "      }\n",
              "\n",
              "      .colab-df-generate:hover {\n",
              "        background-color: #E2EBFA;\n",
              "        box-shadow: 0px 1px 2px rgba(60, 64, 67, 0.3), 0px 1px 3px 1px rgba(60, 64, 67, 0.15);\n",
              "        fill: #174EA6;\n",
              "      }\n",
              "\n",
              "      [theme=dark] .colab-df-generate {\n",
              "        background-color: #3B4455;\n",
              "        fill: #D2E3FC;\n",
              "      }\n",
              "\n",
              "      [theme=dark] .colab-df-generate:hover {\n",
              "        background-color: #434B5C;\n",
              "        box-shadow: 0px 1px 3px 1px rgba(0, 0, 0, 0.15);\n",
              "        filter: drop-shadow(0px 1px 2px rgba(0, 0, 0, 0.3));\n",
              "        fill: #FFFFFF;\n",
              "      }\n",
              "    </style>\n",
              "    <button class=\"colab-df-generate\" onclick=\"generateWithVariable('df_whl')\"\n",
              "            title=\"Generate code using this dataframe.\"\n",
              "            style=\"display:none;\">\n",
              "\n",
              "  <svg xmlns=\"http://www.w3.org/2000/svg\" height=\"24px\"viewBox=\"0 0 24 24\"\n",
              "       width=\"24px\">\n",
              "    <path d=\"M7,19H8.4L18.45,9,17,7.55,7,17.6ZM5,21V16.75L18.45,3.32a2,2,0,0,1,2.83,0l1.4,1.43a1.91,1.91,0,0,1,.58,1.4,1.91,1.91,0,0,1-.58,1.4L9.25,21ZM18.45,9,17,7.55Zm-12,3A5.31,5.31,0,0,0,4.9,8.1,5.31,5.31,0,0,0,1,6.5,5.31,5.31,0,0,0,4.9,4.9,5.31,5.31,0,0,0,6.5,1,5.31,5.31,0,0,0,8.1,4.9,5.31,5.31,0,0,0,12,6.5,5.46,5.46,0,0,0,6.5,12Z\"/>\n",
              "  </svg>\n",
              "    </button>\n",
              "    <script>\n",
              "      (() => {\n",
              "      const buttonEl =\n",
              "        document.querySelector('#id_50c82ed0-c5fe-46ff-add7-1d0fecf5b4c1 button.colab-df-generate');\n",
              "      buttonEl.style.display =\n",
              "        google.colab.kernel.accessAllowed ? 'block' : 'none';\n",
              "\n",
              "      buttonEl.onclick = () => {\n",
              "        google.colab.notebook.generateWithVariable('df_whl');\n",
              "      }\n",
              "      })();\n",
              "    </script>\n",
              "  </div>\n",
              "\n",
              "    </div>\n",
              "  </div>\n"
            ],
            "application/vnd.google.colaboratory.intrinsic+json": {
              "type": "dataframe",
              "variable_name": "df_whl",
              "summary": "{\n  \"name\": \"df_whl\",\n  \"rows\": 5,\n  \"fields\": [\n    {\n      \"column\": \"fruit\",\n      \"properties\": {\n        \"dtype\": \"string\",\n        \"num_unique_values\": 5,\n        \"samples\": [\n          \"blueberries\",\n          \"avocado\",\n          \"banana\"\n        ],\n        \"semantic_type\": \"\",\n        \"description\": \"\"\n      }\n    },\n    {\n      \"column\": \"wholesaler_price\",\n      \"properties\": {\n        \"dtype\": \"number\",\n        \"std\": 6.348228099241551,\n        \"min\": 14.99,\n        \"max\": 30.99,\n        \"num_unique_values\": 5,\n        \"samples\": [\n          14.99,\n          30.99,\n          15.99\n        ],\n        \"semantic_type\": \"\",\n        \"description\": \"\"\n      }\n    }\n  ]\n}"
            }
          },
          "metadata": {}
        }
      ],
      "source": [
        "# @title\n",
        "# create the first DataFrame\n",
        "df_mkt = pd.DataFrame({\"fruit\" : [\"apple\", \"banana\", \"avocado\", \"grapes\", \"blueberries\"],\n",
        "                    \"market_price\" : [26.99, 29.99, 41.99, 23.99, 26.99] })\n",
        "print(\"The first DataFrame\")\n",
        "display(df_mkt)\n",
        "\n",
        "# create the second DataFrame\n",
        "df_whl = pd.DataFrame({\"fruit\" : [\"grapes\", \"blueberries\", \"banana\", \"apple\", \"avocado\"],\n",
        "                    \"wholesaler_price\" :  [19.99, 14.99, 15.99, 20.99, 30.99] })\n",
        "print(\"\\nThe second DataFrame\")\n",
        "display(df_whl)"
      ]
    },
    {
      "cell_type": "code",
      "source": [
        "# joining the DataFrames\n"
      ],
      "metadata": {
        "id": "W3uCkvX_KVJE"
      },
      "execution_count": null,
      "outputs": []
    },
    {
      "cell_type": "code",
      "source": [],
      "metadata": {
        "id": "038GpgbglaaT"
      },
      "execution_count": null,
      "outputs": []
    },
    {
      "cell_type": "code",
      "source": [],
      "metadata": {
        "id": "QhmzfbJslnyk"
      },
      "execution_count": null,
      "outputs": []
    },
    {
      "cell_type": "code",
      "source": [],
      "metadata": {
        "id": "R4AK-0CJlhuQ"
      },
      "execution_count": null,
      "outputs": []
    },
    {
      "cell_type": "markdown",
      "source": [
        "###**2. Join — `DataFrame.join()`**\n",
        "\n",
        "Specialized method for index-based joining\n",
        "\n",
        "Syntax: `df1.join(df2, how='left', lsuffix='', rsuffix='')`\n",
        "\n",
        "Best for:\n",
        "* Combining DataFrames using their indices\n",
        "\n"
      ],
      "metadata": {
        "id": "QFykADMdGA8t"
      }
    },
    {
      "cell_type": "code",
      "source": [],
      "metadata": {
        "id": "mAblojmNNkSW"
      },
      "execution_count": null,
      "outputs": []
    },
    {
      "cell_type": "code",
      "source": [],
      "metadata": {
        "id": "McM1ytTsmKsZ"
      },
      "execution_count": null,
      "outputs": []
    },
    {
      "cell_type": "markdown",
      "source": [
        "###**3. Concatenate — `pd.concat()`**\n",
        "\n",
        "Used for combining DataFrames along an axis\n",
        "\n",
        "Syntax: `pd.concat([df1, df2], axis=0)`\n",
        "\n",
        "Best for:\n",
        "\n",
        "* Stacking DataFrames vertically (axis=0)\n",
        "* Combining DataFrames side-by-side (axis=1)"
      ],
      "metadata": {
        "id": "i0LXQizLGFmY"
      }
    },
    {
      "cell_type": "code",
      "source": [
        "# Stacking DataFrames vertically (axis=0)\n"
      ],
      "metadata": {
        "id": "MaVvAQxZLw2G"
      },
      "execution_count": null,
      "outputs": []
    },
    {
      "cell_type": "code",
      "source": [],
      "metadata": {
        "id": "BhK6bnZYm2x2"
      },
      "execution_count": null,
      "outputs": []
    },
    {
      "cell_type": "code",
      "source": [
        "# Combining DataFrames side-by-side (axis=1)\n"
      ],
      "metadata": {
        "id": "UkV0XJ7-bWba"
      },
      "execution_count": null,
      "outputs": []
    },
    {
      "cell_type": "code",
      "source": [],
      "metadata": {
        "id": "hEs8ZqYpnQIG"
      },
      "execution_count": null,
      "outputs": []
    },
    {
      "cell_type": "code",
      "source": [],
      "metadata": {
        "id": "OVo7bxgbMtFE"
      },
      "execution_count": null,
      "outputs": []
    },
    {
      "cell_type": "code",
      "source": [],
      "metadata": {
        "id": "lcvGT_Senale"
      },
      "execution_count": null,
      "outputs": []
    },
    {
      "cell_type": "markdown",
      "source": [
        "###**4. Additional Methods for Combining Data**\n",
        "\n",
        "* `merge_asof()` for time-series-like joining\n",
        "* `combine_first()` for updating missing values"
      ],
      "metadata": {
        "id": "Pa_bOjO6OSW-"
      }
    },
    {
      "cell_type": "code",
      "source": [
        "# @title\n",
        "df_trades = pd.DataFrame({\n",
        "    'time': pd.to_datetime(['20160525 13:30:00.023',\n",
        "                            '20160525 13:30:00.038',\n",
        "                            '20160525 13:30:00.048',\n",
        "                            '20160525 13:30:00.048',\n",
        "                            '20160525 13:30:00.048']),\n",
        "    'ticker': ['MSFT', 'MSFT','GOOG', 'GOOG', 'AAPL'],\n",
        "    'price': [51.95, 51.95,720.77, 720.92, 98.00],\n",
        "    'quantity': [75, 155,100, 100, 100]},\n",
        "    columns=['time', 'ticker', 'price', 'quantity'])\n",
        "\n",
        "df_quotes = pd.DataFrame({\n",
        "    'time': pd.to_datetime(['20160525 13:30:00.023',\n",
        "                            '20160525 13:30:00.023',\n",
        "                            '20160525 13:30:00.030',\n",
        "                            '20160525 13:30:00.041',\n",
        "                            '20160525 13:30:00.048',\n",
        "                            '20160525 13:30:00.049',\n",
        "                            '20160525 13:30:00.072',\n",
        "                            '20160525 13:30:00.075']),\n",
        "    'ticker': ['GOOG', 'MSFT', 'MSFT','MSFT', 'GOOG', 'AAPL', 'GOOG','MSFT'],\n",
        "    'bid': [720.50, 51.95, 51.97, 51.99,720.50, 97.99, 720.50, 52.01],\n",
        "    'ask': [720.93, 51.96, 51.98, 52.00,720.93, 98.01, 720.88, 52.03]},\n",
        "    columns=['time', 'ticker', 'bid', 'ask'])\n",
        "display(df_trades)\n",
        "display(df_quotes)"
      ],
      "metadata": {
        "id": "1YCzBVxrOFqk"
      },
      "execution_count": null,
      "outputs": []
    },
    {
      "cell_type": "code",
      "source": [],
      "metadata": {
        "id": "FwD8wBz-Ot4n"
      },
      "execution_count": null,
      "outputs": []
    },
    {
      "cell_type": "code",
      "source": [],
      "metadata": {
        "id": "4H0p3zM-PWFd"
      },
      "execution_count": null,
      "outputs": []
    },
    {
      "cell_type": "code",
      "source": [
        "# @title\n",
        "# First DataFrame with some missing values\n",
        "sales_data = pd.DataFrame({\n",
        "    'Month': ['January', 'February', 'March', 'April'],\n",
        "    'Sales': [200, None, 150, None]\n",
        "})\n",
        "\n",
        "# Second DataFrame with historical sales data\n",
        "backup_data = pd.DataFrame({\n",
        "      'Month': ['January', 'February', 'March', 'April'],\n",
        "      'Sales': [180, 220, None, 170]\n",
        "})\n",
        "\n",
        "display(sales_data)\n",
        "display(backup_data)"
      ],
      "metadata": {
        "id": "Z9fow0u2G7Go"
      },
      "execution_count": null,
      "outputs": []
    },
    {
      "cell_type": "code",
      "source": [
        "# Use combine_first to update missing values in sales_data with values from backup_data\n",
        "\n",
        "# Display the updated sales data\n"
      ],
      "metadata": {
        "id": "81qmtYc5HK7i"
      },
      "execution_count": null,
      "outputs": []
    },
    {
      "cell_type": "markdown",
      "source": [
        "## Task: Basic Join Types\n",
        "\n",
        "\n",
        "**Understanding Different Join Types**\n",
        "The hidden code below creates two DataFrames: 'df_students' and 'df_grades'\n",
        "\n",
        "Key Learning Points:\n",
        "- INNER join: Only keeps matches present in both DataFrames\n",
        "- LEFT join: Keeps all records from left DataFrame, fills missing with NaN\n",
        "- RIGHT join: Keeps all records from right DataFrame, fills missing with NaN\n",
        "- OUTER join: Keeps all records from both DataFrames, fills missing with NaN\n",
        "\n",
        "Edge Cases:\n",
        "- Students with no grades\n",
        "- Grades with no matching student\n",
        "- Duplicate student entries\n",
        "\n",
        "**Instructions**\n",
        "Create an inner, left, right and outer joins of df_students and df_grades on student_id."
      ],
      "metadata": {
        "id": "katqzGwAFR8N"
      }
    },
    {
      "cell_type": "code",
      "source": [
        "# @title\n",
        "# Sample data\n",
        "df_students = pd.DataFrame({\n",
        "    'student_id': [1, 2, 3, 4, 5, 5],  # Note: ID 5 is duplicated\n",
        "    'name': ['Alice', 'Bob', 'Charlie', 'David', 'Eve', 'Eve'],\n",
        "    'major': ['CS', 'Physics', 'Math', 'CS', 'Physics', 'Physics']\n",
        "})\n",
        "\n",
        "df_grades = pd.DataFrame({\n",
        "    'student_id': [1, 2, 2, 6, 7],  # IDs 6,7 don't exist in students\n",
        "    'course': ['Math', 'Physics', 'CS', 'Math', 'Physics'],\n",
        "    'grade': [85, 92, 88, 90, 87]\n",
        "})"
      ],
      "metadata": {
        "id": "U4j7GtDIEyJ8",
        "cellView": "form"
      },
      "execution_count": null,
      "outputs": []
    },
    {
      "cell_type": "code",
      "source": [],
      "metadata": {
        "id": "ATt9gT6GpSNm"
      },
      "execution_count": null,
      "outputs": []
    },
    {
      "cell_type": "markdown",
      "source": [
        "### Create dataframes based on the different types of joins\n",
        "Inner, left, right and outer"
      ],
      "metadata": {
        "id": "WVOWieP6EfUu"
      }
    },
    {
      "cell_type": "code",
      "source": [
        "# Solutions demonstrating different join types\n",
        "\n"
      ],
      "metadata": {
        "id": "N72vLhbRO8M_"
      },
      "execution_count": null,
      "outputs": []
    },
    {
      "cell_type": "code",
      "source": [
        "print(\"Inner Join\")\n",
        "display(inner_join)\n",
        "\n",
        "print(\"Outer Join\")\n",
        "display(outer_join)\n",
        "\n",
        "print(\"Left Join\")\n",
        "display(left_join)\n",
        "\n",
        "print(\"Right Join\")\n",
        "display(right_join)"
      ],
      "metadata": {
        "id": "qD-apQIhqHyt"
      },
      "execution_count": null,
      "outputs": []
    },
    {
      "cell_type": "markdown",
      "source": [],
      "metadata": {
        "id": "Zbf1F2kHqHUO"
      }
    },
    {
      "cell_type": "markdown",
      "source": [
        "### Time-Based Joins with Window Functions"
      ],
      "metadata": {
        "id": "QobrK8_ZIgVV"
      }
    },
    {
      "cell_type": "code",
      "source": [
        "# Time-Based Joins with Window Functions\n",
        "\n",
        "# Sample data\n",
        "stock_prices = pd.DataFrame({\n",
        "    'timestamp': pd.date_range('2024-01-01', periods=5, freq='H'),\n",
        "    'price': [100, 101, 99, 102, 103]\n",
        "})\n",
        "\n",
        "company_events = pd.DataFrame({\n",
        "    'timestamp': pd.date_range('2024-01-01 01:30:00', periods=3, freq='2H'),\n",
        "    'event_type': ['News', 'Earnings', 'Press Release']\n",
        "})\n",
        "\n"
      ],
      "metadata": {
        "id": "AWEstRo8gDM0"
      },
      "execution_count": null,
      "outputs": []
    },
    {
      "cell_type": "markdown",
      "source": [
        "# PART 2: FASTSHIP, INC CASE\n",
        "\n",
        "\n",
        "**— FastShip Transactional Data —**\n",
        "\n",
        "Shipments: https://raw.githubusercontent.com/iamctodd/datasets/refs/heads/main/joins/shipments.csv\n",
        "\n",
        "Orders: https://raw.githubusercontent.com/iamctodd/datasets/refs/heads/main/joins/orders.csv\n",
        "\n",
        "Feedback: https://raw.githubusercontent.com/iamctodd/datasets/refs/heads/main/joins/cmr_feedback.csv\n",
        "\n",
        "**— SpeedyDelivery Data —**\n",
        "\n",
        "Speedy Orders: https://raw.githubusercontent.com/iamctodd/datasets/refs/heads/main/joins/speedy_orders.csv\n",
        "\n",
        "GPS Tracking: https://raw.githubusercontent.com/iamctodd/datasets/refs/heads/main/joins/gps_tracking.csv\n",
        "\n",
        "Warehouse: https://raw.githubusercontent.com/iamctodd/datasets/refs/heads/main/joins/warehouse.csv\n",
        "\n",
        "**— Customer Support —**\n",
        "\n",
        "Segments: https://raw.githubusercontent.com/iamctodd/datasets/refs/heads/main/joins/segments.csv\n",
        "\n",
        "Interactions: https://raw.githubusercontent.com/iamctodd/datasets/refs/heads/main/joins/interactions.csv\n",
        "\n",
        "Outcomes: https://raw.githubusercontent.com/iamctodd/datasets/refs/heads/main/joins/outcomes.csv\n",
        "\n",
        "**— Product Analytics —**\n",
        "\n",
        "Inventory: https://raw.githubusercontent.com/iamctodd/datasets/refs/heads/main/joins/inventory.csv\n",
        "\n",
        "Sales: https://raw.githubusercontent.com/iamctodd/datasets/refs/heads/main/joins/sales.csv\n",
        "\n",
        "Products: https://raw.githubusercontent.com/iamctodd/datasets/refs/heads/main/joins/products.csv"
      ],
      "metadata": {
        "id": "0TiRRmhfS1JU"
      }
    },
    {
      "cell_type": "markdown",
      "source": [
        "### Part 1: Combining the data"
      ],
      "metadata": {
        "id": "c-w7jHSze94b"
      }
    },
    {
      "cell_type": "markdown",
      "source": [
        "\n",
        "\n",
        "\n",
        "\n",
        "**Create a summary report showing:**\n",
        "* Total orders per region\n",
        "* Average delivery time\n",
        "* Average customer rating\n",
        "* Percentage of orders with feedback"
      ],
      "metadata": {
        "id": "zAqHDSYsTFyo"
      }
    },
    {
      "cell_type": "code",
      "source": [
        "# First import all the data!\n",
        "df_orders = pd.read_csv('https://raw.githubusercontent.com/iamctodd/datasets/refs/heads/main/joins/orders.csv')\n",
        "df_ship = pd.read_csv('https://raw.githubusercontent.com/iamctodd/datasets/refs/heads/main/joins/shipments.csv')\n",
        "df_fbk = pd.read_csv('https://raw.githubusercontent.com/iamctodd/datasets/refs/heads/main/joins/cmr_feedback.csv')\n"
      ],
      "metadata": {
        "id": "jNueUXbVt44q"
      },
      "execution_count": null,
      "outputs": []
    },
    {
      "cell_type": "code",
      "source": [],
      "metadata": {
        "id": "b-D8548wyTKK"
      },
      "execution_count": null,
      "outputs": []
    },
    {
      "cell_type": "code",
      "source": [],
      "metadata": {
        "id": "TjvYOa8w79HH"
      },
      "execution_count": null,
      "outputs": []
    },
    {
      "cell_type": "code",
      "source": [],
      "metadata": {
        "id": "KFrGn6jE9TQ0"
      },
      "execution_count": null,
      "outputs": []
    },
    {
      "cell_type": "code",
      "source": [
        "# Create a summary report\n"
      ],
      "metadata": {
        "id": "E7ZtOGLR-SWu"
      },
      "execution_count": null,
      "outputs": []
    },
    {
      "cell_type": "code",
      "source": [],
      "metadata": {
        "id": "Rx8Hvj53B8Tl"
      },
      "execution_count": null,
      "outputs": []
    },
    {
      "cell_type": "code",
      "source": [
        "# Percentage of orders with feedback\n"
      ],
      "metadata": {
        "id": "jsVZKD_S_apJ"
      },
      "execution_count": null,
      "outputs": []
    },
    {
      "cell_type": "code",
      "source": [
        "# Total orders per region\n",
        "\"\"\" YOUR CODE HERE \"\"\""
      ],
      "metadata": {
        "id": "81WGE_Y0a1NV"
      },
      "execution_count": null,
      "outputs": []
    },
    {
      "cell_type": "code",
      "source": [
        "# Average delivery times\n",
        "\"\"\" YOUR CODE HERE \"\"\""
      ],
      "metadata": {
        "id": "u90LSs9oQmmQ"
      },
      "execution_count": null,
      "outputs": []
    },
    {
      "cell_type": "code",
      "source": [
        "# Average Customer Rating\n",
        "\"\"\" YOUR CODE HERE \"\"\""
      ],
      "metadata": {
        "id": "m-JGzv42a5rw"
      },
      "execution_count": null,
      "outputs": []
    },
    {
      "cell_type": "code",
      "source": [
        "# Percent of orders with feedback\n",
        "\"\"\" YOUR CODE HERE \"\"\""
      ],
      "metadata": {
        "id": "fdHd12Bwa9Oa"
      },
      "execution_count": null,
      "outputs": []
    },
    {
      "cell_type": "markdown",
      "source": [
        "**What are the key strategic challenges facing FastShip Inc.?**\n",
        "\n",
        "* ADD YOUR ANSWER HERE"
      ],
      "metadata": {
        "id": "-FZOFA8mZ8jU"
      }
    },
    {
      "cell_type": "markdown",
      "source": [
        "**How might an integrated data analytics help address these challenges?**\n",
        "\n",
        "* ADD YOUR ANSWER HERE"
      ],
      "metadata": {
        "id": "OfEpCTU2aJix"
      }
    },
    {
      "cell_type": "markdown",
      "source": [],
      "metadata": {
        "id": "KJCmgdKnZpd_"
      }
    },
    {
      "cell_type": "markdown",
      "source": [
        "**Evaluate the timing of the SpeedyDelivery acquisition. What additional complexities does this add to Pablo’s analytics integration project**\n",
        "\n",
        "* This is my reply to this quesiont"
      ],
      "metadata": {
        "id": "iCtuB4oNaQuS"
      }
    },
    {
      "cell_type": "markdown",
      "source": [
        "**Write the Python code needed to:**\n",
        "* Calculate delivery times\n",
        "* Create a unified customer view across both companies\n",
        "* Calculate standardized delivery times\n",
        "* Integrate GPS tracking data with delivery performance metrics"
      ],
      "metadata": {
        "id": "r5UR0j0zQKCp"
      }
    },
    {
      "cell_type": "code",
      "source": [
        "# Calculate delivery times\n",
        "\"\"\" YOUR CODE HERE \"\"\""
      ],
      "metadata": {
        "id": "fV7SoQX3QSeQ"
      },
      "execution_count": null,
      "outputs": []
    },
    {
      "cell_type": "code",
      "source": [
        "# Create a unified customer view across both companies\n",
        "\"\"\" YOUR CODE HERE \"\"\""
      ],
      "metadata": {
        "id": "s5M-u86tQTej"
      },
      "execution_count": null,
      "outputs": []
    },
    {
      "cell_type": "code",
      "source": [
        "# Calculate standardized delivery times\n",
        "\"\"\" YOUR CODE HERE \"\"\""
      ],
      "metadata": {
        "id": "SJWMCwHtbFRl"
      },
      "execution_count": null,
      "outputs": []
    },
    {
      "cell_type": "code",
      "source": [
        "# Integrate GPS tracking with delivery performance\n",
        "\"\"\" YOUR CODE HERE \"\"\""
      ],
      "metadata": {
        "id": "XhbSsqGRbLKS"
      },
      "execution_count": null,
      "outputs": []
    },
    {
      "cell_type": "code",
      "source": [],
      "metadata": {
        "id": "xEOv6TZHfPe2"
      },
      "execution_count": null,
      "outputs": []
    },
    {
      "cell_type": "markdown",
      "source": [
        "**Evaluate the timing of the SpeedyDelivery acquisition. **\n",
        "\n",
        "* Your Answer Here\n",
        "\n",
        "**What additional complexities does this add to Pablo’s analytics integration project?**\n",
        "\n",
        "* Your Answer Here\n",
        "\n",
        "\n"
      ],
      "metadata": {
        "id": "S2Vrk6z9fUjY"
      }
    },
    {
      "cell_type": "markdown",
      "source": [
        "\n",
        "* **Create a customer service report by**\n",
        "* Combine all three datasets to analyze resolution times by segment\n",
        "* Identify customers with interactions but missing outcomes\n",
        "* Calculate the average resolution time by channel and segment\n",
        "\n"
      ],
      "metadata": {
        "id": "4_IMnU5kftSJ"
      }
    },
    {
      "cell_type": "code",
      "source": [
        "\"\"\" YOUR CODE HERE \"\"\"\n"
      ],
      "metadata": {
        "id": "n3-gcdlDfu_i"
      },
      "execution_count": null,
      "outputs": []
    },
    {
      "cell_type": "markdown",
      "source": [
        "* Create a complete sales report with\n",
        "** product details and inventory levels\n",
        "** Analyze sales patterns by category\n",
        "** Calculate revenue by category and date\n",
        "\n",
        "\n"
      ],
      "metadata": {
        "id": "I-v_O4pjfwSG"
      }
    },
    {
      "cell_type": "code",
      "source": [],
      "metadata": {
        "id": "O-ytUzbpfyIS"
      },
      "execution_count": null,
      "outputs": []
    },
    {
      "cell_type": "markdown",
      "source": [
        "* **Address the following:**\n",
        "** Different column names and metrics across both companeis\n",
        "** Inconsistent business rules (e.g., delivery time calculations)\n",
        "** Real-time GPS data integration\n",
        "** Historical data compatibility"
      ],
      "metadata": {
        "id": "dVmSB7R1fxuT"
      }
    }
  ]
}