{
  "nbformat": 4,
  "nbformat_minor": 0,
  "metadata": {
    "colab": {
      "provenance": [],
      "authorship_tag": "ABX9TyPBcDLTndQSwqEnvdcAYD3w",
      "include_colab_link": true
    },
    "kernelspec": {
      "name": "python3",
      "display_name": "Python 3"
    },
    "language_info": {
      "name": "python"
    }
  },
  "cells": [
    {
      "cell_type": "markdown",
      "metadata": {
        "id": "view-in-github",
        "colab_type": "text"
      },
      "source": [
        "<a href=\"https://colab.research.google.com/github/Kartavya-Jharwal/Kartavya_Business_Analytics2025/blob/main/Class_Assignments/week5/Week_5_Session_1.ipynb\" target=\"_parent\"><img src=\"https://colab.research.google.com/assets/colab-badge.svg\" alt=\"Open In Colab\"/></a>"
      ]
    },
    {
      "cell_type": "markdown",
      "source": [
        "You are analyzing the impact of product placement on monthly sales performance. Specifically, you are comparing the sales of a product displayed in two different store locations:\n",
        "\n",
        "Special Up-Front Display\n",
        "\n",
        "In-Aisle Placement\n",
        "## Hypothesis Formulation\n",
        "Null Hypothesis (H₀): There is no significant difference in monthly sales between the special up-front display and the in-aisle placement.\n",
        "\n",
        "Alternative Hypothesis (H₁): There is a significant difference in monthly sales between the special up-front display and the in-aisle placement.\n",
        "\n",
        "Significance level of 0.05 (Confidence level of 95%)\n",
        "Independent T Test\n"
      ],
      "metadata": {
        "id": "1zaWH9Onlf10"
      }
    },
    {
      "cell_type": "code",
      "execution_count": 1,
      "metadata": {
        "id": "dVw9R_zukv4E"
      },
      "outputs": [],
      "source": [
        "import pandas as pd\n",
        "import numpy as np\n",
        "from scipy import stats\n",
        "import matplotlib.pyplot as plt\n",
        "import seaborn as sns"
      ]
    }
  ]
}