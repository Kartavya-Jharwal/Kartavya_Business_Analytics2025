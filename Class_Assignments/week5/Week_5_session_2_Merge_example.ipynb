{
  "nbformat": 4,
  "nbformat_minor": 0,
  "metadata": {
    "colab": {
      "provenance": [],
      "authorship_tag": "ABX9TyO5eSpUItkhYQlhOachgUbf",
      "include_colab_link": true
    },
    "kernelspec": {
      "name": "python3",
      "display_name": "Python 3"
    },
    "language_info": {
      "name": "python"
    }
  },
  "cells": [
    {
      "cell_type": "markdown",
      "metadata": {
        "id": "view-in-github",
        "colab_type": "text"
      },
      "source": [
        "<a href=\"https://colab.research.google.com/github/Kartavya-Jharwal/Kartavya_Business_Analytics2025/blob/main/Class_Assignments/week5/Week_5_session_2_Merge_example.ipynb\" target=\"_parent\"><img src=\"https://colab.research.google.com/assets/colab-badge.svg\" alt=\"Open In Colab\"/></a>"
      ]
    },
    {
      "cell_type": "code",
      "execution_count": 1,
      "metadata": {
        "id": "ghFpVL1r1jPG"
      },
      "outputs": [],
      "source": [
        "import pandas as pd\n",
        "import numpy as np\n",
        "from scipy import stats\n",
        "import matplotlib.pyplot as plt\n",
        "import seaborn as sns"
      ]
    },
    {
      "cell_type": "code",
      "metadata": {
        "id": "f2e04f13"
      },
      "source": [
        "# Construct the raw GitHub URLs\n",
        "url1 = \"https://github.com/Kartavya-Jharwal/Kartavya_Business_Analytics2025/raw/main/Class_Assignments/week5/Merge%20Data1.xlsx\"\n",
        "url2 = \"https://github.com/Kartavya-Jharwal/Kartavya_Business_Analytics2025/raw/main/Class_Assignments/week5/Merge_Data2.xlsx\"\n",
        "url3 = \"https://github.com/Kartavya-Jharwal/Kartavya_Business_Analytics2025/raw/main/Class_Assignments/week5/Wk%205%20Session%202%20Dirty%20Data_exercise.xlsx\""
      ],
      "execution_count": 2,
      "outputs": []
    },
    {
      "cell_type": "code",
      "source": [
        "# Load the data into pandas DataFrames directly from the URLs\n",
        "merge_data1_df = pd.read_excel(url1)\n",
        "merge_data2_df = pd.read_excel(url2)\n",
        "dirty_df = pd.read_excel(url3)"
      ],
      "metadata": {
        "id": "Ddc0dh063poD"
      },
      "execution_count": 3,
      "outputs": []
    },
    {
      "cell_type": "code",
      "source": [
        "print(\"\\nDataFrame Main:\")\n",
        "display(dirty_df.head())\n",
        "\n",
        "print(\"\\nDataFrame Info:\")\n",
        "dirty_df.info()\n",
        "\n",
        "print(\"\\nUnique values in DataFrame Dirty:\")\n",
        "for column in dirty_df.columns:\n",
        "    unique_values = dirty_df[column].unique()\n",
        "    print(f\"\\nColumn: {column}\")\n",
        "    print(f\"Number of unique values: {len(unique_values)}\")\n",
        "    print(f\"Unique values: {unique_values}\")"
      ],
      "metadata": {
        "colab": {
          "base_uri": "https://localhost:8080/",
          "height": 1000
        },
        "id": "QJQJI0G63wL0",
        "outputId": "7be09999-da6a-4757-f230-0a5e83d9c178"
      },
      "execution_count": 4,
      "outputs": [
        {
          "output_type": "stream",
          "name": "stdout",
          "text": [
            "\n",
            "DataFrame Main:\n"
          ]
        },
        {
          "output_type": "display_data",
          "data": {
            "text/plain": [
              "   ID  Gender   Age   Class       Major Grad Intention   GPA\n",
              "0  S1  Female  20.0  Junior       Other            Yes  2.88\n",
              "1  S2    Male  23.0  Senior  Management            Yes  3.60\n",
              "2  S3    Male  21.0  Junior       Other            Yes  2.50\n",
              "3  S4    Male  21.0  Junior         CIS            Yes  2.50\n",
              "4  S5    Mail  23.0  Senior       Other      Undecided  2.80"
            ],
            "text/html": [
              "\n",
              "  <div id=\"df-44af7c26-f3b5-410f-9a3e-df2252c25400\" class=\"colab-df-container\">\n",
              "    <div>\n",
              "<style scoped>\n",
              "    .dataframe tbody tr th:only-of-type {\n",
              "        vertical-align: middle;\n",
              "    }\n",
              "\n",
              "    .dataframe tbody tr th {\n",
              "        vertical-align: top;\n",
              "    }\n",
              "\n",
              "    .dataframe thead th {\n",
              "        text-align: right;\n",
              "    }\n",
              "</style>\n",
              "<table border=\"1\" class=\"dataframe\">\n",
              "  <thead>\n",
              "    <tr style=\"text-align: right;\">\n",
              "      <th></th>\n",
              "      <th>ID</th>\n",
              "      <th>Gender</th>\n",
              "      <th>Age</th>\n",
              "      <th>Class</th>\n",
              "      <th>Major</th>\n",
              "      <th>Grad Intention</th>\n",
              "      <th>GPA</th>\n",
              "    </tr>\n",
              "  </thead>\n",
              "  <tbody>\n",
              "    <tr>\n",
              "      <th>0</th>\n",
              "      <td>S1</td>\n",
              "      <td>Female</td>\n",
              "      <td>20.0</td>\n",
              "      <td>Junior</td>\n",
              "      <td>Other</td>\n",
              "      <td>Yes</td>\n",
              "      <td>2.88</td>\n",
              "    </tr>\n",
              "    <tr>\n",
              "      <th>1</th>\n",
              "      <td>S2</td>\n",
              "      <td>Male</td>\n",
              "      <td>23.0</td>\n",
              "      <td>Senior</td>\n",
              "      <td>Management</td>\n",
              "      <td>Yes</td>\n",
              "      <td>3.60</td>\n",
              "    </tr>\n",
              "    <tr>\n",
              "      <th>2</th>\n",
              "      <td>S3</td>\n",
              "      <td>Male</td>\n",
              "      <td>21.0</td>\n",
              "      <td>Junior</td>\n",
              "      <td>Other</td>\n",
              "      <td>Yes</td>\n",
              "      <td>2.50</td>\n",
              "    </tr>\n",
              "    <tr>\n",
              "      <th>3</th>\n",
              "      <td>S4</td>\n",
              "      <td>Male</td>\n",
              "      <td>21.0</td>\n",
              "      <td>Junior</td>\n",
              "      <td>CIS</td>\n",
              "      <td>Yes</td>\n",
              "      <td>2.50</td>\n",
              "    </tr>\n",
              "    <tr>\n",
              "      <th>4</th>\n",
              "      <td>S5</td>\n",
              "      <td>Mail</td>\n",
              "      <td>23.0</td>\n",
              "      <td>Senior</td>\n",
              "      <td>Other</td>\n",
              "      <td>Undecided</td>\n",
              "      <td>2.80</td>\n",
              "    </tr>\n",
              "  </tbody>\n",
              "</table>\n",
              "</div>\n",
              "    <div class=\"colab-df-buttons\">\n",
              "\n",
              "  <div class=\"colab-df-container\">\n",
              "    <button class=\"colab-df-convert\" onclick=\"convertToInteractive('df-44af7c26-f3b5-410f-9a3e-df2252c25400')\"\n",
              "            title=\"Convert this dataframe to an interactive table.\"\n",
              "            style=\"display:none;\">\n",
              "\n",
              "  <svg xmlns=\"http://www.w3.org/2000/svg\" height=\"24px\" viewBox=\"0 -960 960 960\">\n",
              "    <path d=\"M120-120v-720h720v720H120Zm60-500h600v-160H180v160Zm220 220h160v-160H400v160Zm0 220h160v-160H400v160ZM180-400h160v-160H180v160Zm440 0h160v-160H620v160ZM180-180h160v-160H180v160Zm440 0h160v-160H620v160Z\"/>\n",
              "  </svg>\n",
              "    </button>\n",
              "\n",
              "  <style>\n",
              "    .colab-df-container {\n",
              "      display:flex;\n",
              "      gap: 12px;\n",
              "    }\n",
              "\n",
              "    .colab-df-convert {\n",
              "      background-color: #E8F0FE;\n",
              "      border: none;\n",
              "      border-radius: 50%;\n",
              "      cursor: pointer;\n",
              "      display: none;\n",
              "      fill: #1967D2;\n",
              "      height: 32px;\n",
              "      padding: 0 0 0 0;\n",
              "      width: 32px;\n",
              "    }\n",
              "\n",
              "    .colab-df-convert:hover {\n",
              "      background-color: #E2EBFA;\n",
              "      box-shadow: 0px 1px 2px rgba(60, 64, 67, 0.3), 0px 1px 3px 1px rgba(60, 64, 67, 0.15);\n",
              "      fill: #174EA6;\n",
              "    }\n",
              "\n",
              "    .colab-df-buttons div {\n",
              "      margin-bottom: 4px;\n",
              "    }\n",
              "\n",
              "    [theme=dark] .colab-df-convert {\n",
              "      background-color: #3B4455;\n",
              "      fill: #D2E3FC;\n",
              "    }\n",
              "\n",
              "    [theme=dark] .colab-df-convert:hover {\n",
              "      background-color: #434B5C;\n",
              "      box-shadow: 0px 1px 3px 1px rgba(0, 0, 0, 0.15);\n",
              "      filter: drop-shadow(0px 1px 2px rgba(0, 0, 0, 0.3));\n",
              "      fill: #FFFFFF;\n",
              "    }\n",
              "  </style>\n",
              "\n",
              "    <script>\n",
              "      const buttonEl =\n",
              "        document.querySelector('#df-44af7c26-f3b5-410f-9a3e-df2252c25400 button.colab-df-convert');\n",
              "      buttonEl.style.display =\n",
              "        google.colab.kernel.accessAllowed ? 'block' : 'none';\n",
              "\n",
              "      async function convertToInteractive(key) {\n",
              "        const element = document.querySelector('#df-44af7c26-f3b5-410f-9a3e-df2252c25400');\n",
              "        const dataTable =\n",
              "          await google.colab.kernel.invokeFunction('convertToInteractive',\n",
              "                                                    [key], {});\n",
              "        if (!dataTable) return;\n",
              "\n",
              "        const docLinkHtml = 'Like what you see? Visit the ' +\n",
              "          '<a target=\"_blank\" href=https://colab.research.google.com/notebooks/data_table.ipynb>data table notebook</a>'\n",
              "          + ' to learn more about interactive tables.';\n",
              "        element.innerHTML = '';\n",
              "        dataTable['output_type'] = 'display_data';\n",
              "        await google.colab.output.renderOutput(dataTable, element);\n",
              "        const docLink = document.createElement('div');\n",
              "        docLink.innerHTML = docLinkHtml;\n",
              "        element.appendChild(docLink);\n",
              "      }\n",
              "    </script>\n",
              "  </div>\n",
              "\n",
              "\n",
              "    <div id=\"df-92afac01-205d-4179-b777-9f99449b968c\">\n",
              "      <button class=\"colab-df-quickchart\" onclick=\"quickchart('df-92afac01-205d-4179-b777-9f99449b968c')\"\n",
              "                title=\"Suggest charts\"\n",
              "                style=\"display:none;\">\n",
              "\n",
              "<svg xmlns=\"http://www.w3.org/2000/svg\" height=\"24px\"viewBox=\"0 0 24 24\"\n",
              "     width=\"24px\">\n",
              "    <g>\n",
              "        <path d=\"M19 3H5c-1.1 0-2 .9-2 2v14c0 1.1.9 2 2 2h14c1.1 0 2-.9 2-2V5c0-1.1-.9-2-2-2zM9 17H7v-7h2v7zm4 0h-2V7h2v10zm4 0h-2v-4h2v4z\"/>\n",
              "    </g>\n",
              "</svg>\n",
              "      </button>\n",
              "\n",
              "<style>\n",
              "  .colab-df-quickchart {\n",
              "      --bg-color: #E8F0FE;\n",
              "      --fill-color: #1967D2;\n",
              "      --hover-bg-color: #E2EBFA;\n",
              "      --hover-fill-color: #174EA6;\n",
              "      --disabled-fill-color: #AAA;\n",
              "      --disabled-bg-color: #DDD;\n",
              "  }\n",
              "\n",
              "  [theme=dark] .colab-df-quickchart {\n",
              "      --bg-color: #3B4455;\n",
              "      --fill-color: #D2E3FC;\n",
              "      --hover-bg-color: #434B5C;\n",
              "      --hover-fill-color: #FFFFFF;\n",
              "      --disabled-bg-color: #3B4455;\n",
              "      --disabled-fill-color: #666;\n",
              "  }\n",
              "\n",
              "  .colab-df-quickchart {\n",
              "    background-color: var(--bg-color);\n",
              "    border: none;\n",
              "    border-radius: 50%;\n",
              "    cursor: pointer;\n",
              "    display: none;\n",
              "    fill: var(--fill-color);\n",
              "    height: 32px;\n",
              "    padding: 0;\n",
              "    width: 32px;\n",
              "  }\n",
              "\n",
              "  .colab-df-quickchart:hover {\n",
              "    background-color: var(--hover-bg-color);\n",
              "    box-shadow: 0 1px 2px rgba(60, 64, 67, 0.3), 0 1px 3px 1px rgba(60, 64, 67, 0.15);\n",
              "    fill: var(--button-hover-fill-color);\n",
              "  }\n",
              "\n",
              "  .colab-df-quickchart-complete:disabled,\n",
              "  .colab-df-quickchart-complete:disabled:hover {\n",
              "    background-color: var(--disabled-bg-color);\n",
              "    fill: var(--disabled-fill-color);\n",
              "    box-shadow: none;\n",
              "  }\n",
              "\n",
              "  .colab-df-spinner {\n",
              "    border: 2px solid var(--fill-color);\n",
              "    border-color: transparent;\n",
              "    border-bottom-color: var(--fill-color);\n",
              "    animation:\n",
              "      spin 1s steps(1) infinite;\n",
              "  }\n",
              "\n",
              "  @keyframes spin {\n",
              "    0% {\n",
              "      border-color: transparent;\n",
              "      border-bottom-color: var(--fill-color);\n",
              "      border-left-color: var(--fill-color);\n",
              "    }\n",
              "    20% {\n",
              "      border-color: transparent;\n",
              "      border-left-color: var(--fill-color);\n",
              "      border-top-color: var(--fill-color);\n",
              "    }\n",
              "    30% {\n",
              "      border-color: transparent;\n",
              "      border-left-color: var(--fill-color);\n",
              "      border-top-color: var(--fill-color);\n",
              "      border-right-color: var(--fill-color);\n",
              "    }\n",
              "    40% {\n",
              "      border-color: transparent;\n",
              "      border-right-color: var(--fill-color);\n",
              "      border-top-color: var(--fill-color);\n",
              "    }\n",
              "    60% {\n",
              "      border-color: transparent;\n",
              "      border-right-color: var(--fill-color);\n",
              "    }\n",
              "    80% {\n",
              "      border-color: transparent;\n",
              "      border-right-color: var(--fill-color);\n",
              "      border-bottom-color: var(--fill-color);\n",
              "    }\n",
              "    90% {\n",
              "      border-color: transparent;\n",
              "      border-bottom-color: var(--fill-color);\n",
              "    }\n",
              "  }\n",
              "</style>\n",
              "\n",
              "      <script>\n",
              "        async function quickchart(key) {\n",
              "          const quickchartButtonEl =\n",
              "            document.querySelector('#' + key + ' button');\n",
              "          quickchartButtonEl.disabled = true;  // To prevent multiple clicks.\n",
              "          quickchartButtonEl.classList.add('colab-df-spinner');\n",
              "          try {\n",
              "            const charts = await google.colab.kernel.invokeFunction(\n",
              "                'suggestCharts', [key], {});\n",
              "          } catch (error) {\n",
              "            console.error('Error during call to suggestCharts:', error);\n",
              "          }\n",
              "          quickchartButtonEl.classList.remove('colab-df-spinner');\n",
              "          quickchartButtonEl.classList.add('colab-df-quickchart-complete');\n",
              "        }\n",
              "        (() => {\n",
              "          let quickchartButtonEl =\n",
              "            document.querySelector('#df-92afac01-205d-4179-b777-9f99449b968c button');\n",
              "          quickchartButtonEl.style.display =\n",
              "            google.colab.kernel.accessAllowed ? 'block' : 'none';\n",
              "        })();\n",
              "      </script>\n",
              "    </div>\n",
              "\n",
              "    </div>\n",
              "  </div>\n"
            ],
            "application/vnd.google.colaboratory.intrinsic+json": {
              "type": "dataframe",
              "summary": "{\n  \"name\": \"    print(f\\\"Unique values: {unique_values}\\\")\",\n  \"rows\": 5,\n  \"fields\": [\n    {\n      \"column\": \"ID\",\n      \"properties\": {\n        \"dtype\": \"string\",\n        \"num_unique_values\": 5,\n        \"samples\": [\n          \"S2\",\n          \"S5\",\n          \"S3\"\n        ],\n        \"semantic_type\": \"\",\n        \"description\": \"\"\n      }\n    },\n    {\n      \"column\": \"Gender\",\n      \"properties\": {\n        \"dtype\": \"string\",\n        \"num_unique_values\": 3,\n        \"samples\": [\n          \"Female\",\n          \"Male\",\n          \"Mail\"\n        ],\n        \"semantic_type\": \"\",\n        \"description\": \"\"\n      }\n    },\n    {\n      \"column\": \"Age\",\n      \"properties\": {\n        \"dtype\": \"number\",\n        \"std\": 1.3416407864998738,\n        \"min\": 20.0,\n        \"max\": 23.0,\n        \"num_unique_values\": 3,\n        \"samples\": [\n          20.0,\n          23.0,\n          21.0\n        ],\n        \"semantic_type\": \"\",\n        \"description\": \"\"\n      }\n    },\n    {\n      \"column\": \"Class\",\n      \"properties\": {\n        \"dtype\": \"category\",\n        \"num_unique_values\": 2,\n        \"samples\": [\n          \"Senior\",\n          \"Junior\"\n        ],\n        \"semantic_type\": \"\",\n        \"description\": \"\"\n      }\n    },\n    {\n      \"column\": \"Major\",\n      \"properties\": {\n        \"dtype\": \"string\",\n        \"num_unique_values\": 3,\n        \"samples\": [\n          \"Other\",\n          \"Management\"\n        ],\n        \"semantic_type\": \"\",\n        \"description\": \"\"\n      }\n    },\n    {\n      \"column\": \"Grad Intention\",\n      \"properties\": {\n        \"dtype\": \"category\",\n        \"num_unique_values\": 2,\n        \"samples\": [\n          \"Undecided\",\n          \"Yes\"\n        ],\n        \"semantic_type\": \"\",\n        \"description\": \"\"\n      }\n    },\n    {\n      \"column\": \"GPA\",\n      \"properties\": {\n        \"dtype\": \"number\",\n        \"std\": 0.4501999555752977,\n        \"min\": 2.5,\n        \"max\": 3.6,\n        \"num_unique_values\": 4,\n        \"samples\": [\n          3.6,\n          2.8\n        ],\n        \"semantic_type\": \"\",\n        \"description\": \"\"\n      }\n    }\n  ]\n}"
            }
          },
          "metadata": {}
        },
        {
          "output_type": "stream",
          "name": "stdout",
          "text": [
            "\n",
            "DataFrame Info:\n",
            "<class 'pandas.core.frame.DataFrame'>\n",
            "RangeIndex: 63 entries, 0 to 62\n",
            "Data columns (total 7 columns):\n",
            " #   Column          Non-Null Count  Dtype  \n",
            "---  ------          --------------  -----  \n",
            " 0   ID              63 non-null     object \n",
            " 1   Gender          62 non-null     object \n",
            " 2   Age             61 non-null     float64\n",
            " 3   Class           63 non-null     object \n",
            " 4   Major           63 non-null     object \n",
            " 5   Grad Intention  63 non-null     object \n",
            " 6   GPA             60 non-null     float64\n",
            "dtypes: float64(2), object(5)\n",
            "memory usage: 3.6+ KB\n",
            "\n",
            "Unique values in DataFrame Dirty:\n",
            "\n",
            "Column: ID\n",
            "Number of unique values: 62\n",
            "Unique values: ['S1' 'S2' 'S3' 'S4' 'S5' 'S6' 'S7' 'S8' 'S9' 'S10' 'S11' 'S12' 'S13'\n",
            " 'S14' 'S15' 'S16' 'S17' 'S18' 'S19' 'S20' 'S21' 'S22' 'S23' 'S24' 'S25'\n",
            " 'S26' 'S27' 'S28' 'S29' 'S30' 'S31' 'S32' 'S33' 'S34' 'S35' 'S36' 'S37'\n",
            " 'S38' 'S39' 'S40' 'S41' 'S42' 'S43' 'S44' 'S45' 'S46' 'S47' 'S48' 'S49'\n",
            " 'S50' 'S51' 'S52' 'S53' 'S54' 'S55' 'S56' 'S57' 'S58' 'S59' 'S60' 'S61'\n",
            " 'S62']\n",
            "\n",
            "Column: Gender\n",
            "Number of unique values: 4\n",
            "Unique values: ['Female' 'Male' 'Mail' nan]\n",
            "\n",
            "Column: Age\n",
            "Number of unique values: 9\n",
            "Unique values: [20. 23. 21. 22. 24. 19. 18. 26. nan]\n",
            "\n",
            "Column: Class\n",
            "Number of unique values: 5\n",
            "Unique values: ['Junior' 'Senior' 'Sophmore' 'Sophomore' 'Management']\n",
            "\n",
            "Column: Major\n",
            "Number of unique values: 9\n",
            "Unique values: ['Other' 'Management' 'CIS' 'Economics/Finance' 'Economics/ Finance'\n",
            " 'Undecided' 'International Business' 'Retailing/Marketing' 'Accounting']\n",
            "\n",
            "Column: Grad Intention\n",
            "Number of unique values: 6\n",
            "Unique values: ['Yes' 'Undecided' 'No' 'Undecide' 'Undeicded' 'Accounting']\n",
            "\n",
            "Column: GPA\n",
            "Number of unique values: 26\n",
            "Unique values: [ 2.88  3.6   2.5   2.8   2.34  3.    3.1   3.3   3.5   3.4   3.2   3.68\n",
            "  3.17  3.19  2.95  2.6   2.9   3.33  2.57   nan  3.05  2.75  3.82 -3.\n",
            "  7.3   2.4 ]\n"
          ]
        }
      ]
    },
    {
      "cell_type": "code",
      "metadata": {
        "colab": {
          "base_uri": "https://localhost:8080/"
        },
        "id": "8479c18d-a2f0-4257-a578-717c8ef93ffb",
        "outputId": "cba8c0de-53f1-4db8-f5bc-ba574b5efb1d"
      },
      "source": [
        "# 1. Clean 'Gender' column\n",
        "# Replace 'Mail' with 'Male'\n",
        "dirty_df['Gender'] = dirty_df['Gender'].replace('Mail', 'Male')\n",
        "\n",
        "# Check unique values after cleaning\n",
        "print(\"\\nUnique values in 'Gender' after cleaning:\")\n",
        "print(dirty_df['Gender'].unique())"
      ],
      "execution_count": 5,
      "outputs": [
        {
          "output_type": "stream",
          "name": "stdout",
          "text": [
            "\n",
            "Unique values in 'Gender' after cleaning:\n",
            "['Female' 'Male' nan]\n"
          ]
        }
      ]
    },
    {
      "cell_type": "code",
      "metadata": {
        "colab": {
          "base_uri": "https://localhost:8080/"
        },
        "id": "9e8d55b7-d040-471b-af04-0e82a15a9a17",
        "outputId": "eecf1bf5-2130-4333-a55d-1fece739c01e"
      },
      "source": [
        "# 2. Clean 'Class' column\n",
        "# Replace 'Sophmore' with 'Sophomore' and 'Management' with a more appropriate category or handle as an outlier\n",
        "# Based on the context, 'Management' seems like an outlier or incorrect entry in the 'Class' column.\n",
        "# For now, let's replace it with NaN and consider imputation later if needed.\n",
        "dirty_df['Class'] = dirty_df['Class'].replace({'Sophmore': 'Sophomore', 'Management': np.nan})\n",
        "\n",
        "# Check unique values after cleaning\n",
        "print(\"\\nUnique values in 'Class' after cleaning:\")\n",
        "print(dirty_df['Class'].unique())"
      ],
      "execution_count": 6,
      "outputs": [
        {
          "output_type": "stream",
          "name": "stdout",
          "text": [
            "\n",
            "Unique values in 'Class' after cleaning:\n",
            "['Junior' 'Senior' 'Sophomore' nan]\n"
          ]
        }
      ]
    },
    {
      "cell_type": "code",
      "metadata": {
        "colab": {
          "base_uri": "https://localhost:8080/"
        },
        "id": "f4c858d3-4f8b-4586-8009-f47c6792e9ee",
        "outputId": "556241e4-d695-4cf0-9d71-ac7feb454a8b"
      },
      "source": [
        "# 3. Clean 'Major' column\n",
        "# Correct the inconsistency in 'Economics/Finance'\n",
        "dirty_df['Major'] = dirty_df['Major'].replace('Economics/ Finance', 'Economics/Finance')\n",
        "\n",
        "# Check unique values after cleaning\n",
        "print(\"\\nUnique values in 'Major' after cleaning:\")\n",
        "print(dirty_df['Major'].unique())"
      ],
      "execution_count": 7,
      "outputs": [
        {
          "output_type": "stream",
          "name": "stdout",
          "text": [
            "\n",
            "Unique values in 'Major' after cleaning:\n",
            "['Other' 'Management' 'CIS' 'Economics/Finance' 'Undecided'\n",
            " 'International Business' 'Retailing/Marketing' 'Accounting']\n"
          ]
        }
      ]
    },
    {
      "cell_type": "code",
      "metadata": {
        "colab": {
          "base_uri": "https://localhost:8080/"
        },
        "id": "836c7b9e-4305-4c17-8903-ff5a1d84b9a3",
        "outputId": "64ad8a2b-e214-4b9a-86bd-4fc0ba3d5b38"
      },
      "source": [
        "# 4. Clean 'Grad Intention' column\n",
        "# Correct inconsistencies\n",
        "dirty_df['Grad Intention'] = dirty_df['Grad Intention'].replace({'Undecide': 'Undecided', 'Undeicded': 'Undecided', 'Accounting': np.nan}) # 'Accounting' seems like an incorrect entry here\n",
        "\n",
        "# Check unique values after cleaning\n",
        "print(\"\\nUnique values in 'Grad Intention' after cleaning:\")\n",
        "print(dirty_df['Grad Intention'].unique())"
      ],
      "execution_count": 8,
      "outputs": [
        {
          "output_type": "stream",
          "name": "stdout",
          "text": [
            "\n",
            "Unique values in 'Grad Intention' after cleaning:\n",
            "['Yes' 'Undecided' 'No' nan]\n"
          ]
        }
      ]
    },
    {
      "cell_type": "code",
      "metadata": {
        "colab": {
          "base_uri": "https://localhost:8080/"
        },
        "id": "f43c4189-4c72-44c4-89a0-915b04004576",
        "outputId": "48acc756-56c5-4313-911c-837175dea421"
      },
      "source": [
        "# 5. Handle missing values in 'Age'\n",
        "# For 'Age', we can fill missing values with the median age\n",
        "dirty_df['Age'] = dirty_df['Age'].fillna(dirty_df['Age'].median())\n",
        "\n",
        "# Check unique values after cleaning\n",
        "print(\"\\nUnique values in 'Age' after cleaning:\")\n",
        "print(dirty_df['Age'].unique())"
      ],
      "execution_count": 9,
      "outputs": [
        {
          "output_type": "stream",
          "name": "stdout",
          "text": [
            "\n",
            "Unique values in 'Age' after cleaning:\n",
            "[20. 23. 21. 22. 24. 19. 18. 26.]\n"
          ]
        }
      ]
    },
    {
      "cell_type": "code",
      "metadata": {
        "colab": {
          "base_uri": "https://localhost:8080/"
        },
        "id": "92693965-3f4c-4140-8631-c3c2714b641e",
        "outputId": "bd0d48c5-e5ae-4562-b1d4-36c35edf971e"
      },
      "source": [
        "# Display the cleaned data info and unique values for all columns to verify the changes\n",
        "print(\"\\nDataFrame Info after cleaning:\")\n",
        "dirty_df.info()\n",
        "\n",
        "print(\"\\nUnique values in DataFrame after cleaning:\")\n",
        "for column in dirty_df.columns:\n",
        "    unique_values = dirty_df[column].unique()\n",
        "    print(f\"\\nColumn: {column}\")\n",
        "    print(f\"Number of unique values: {len(unique_values)}\")\n",
        "    print(f\"Unique values: {unique_values}\")"
      ],
      "execution_count": 11,
      "outputs": [
        {
          "output_type": "stream",
          "name": "stdout",
          "text": [
            "\n",
            "DataFrame Info after cleaning:\n",
            "<class 'pandas.core.frame.DataFrame'>\n",
            "RangeIndex: 63 entries, 0 to 62\n",
            "Data columns (total 7 columns):\n",
            " #   Column          Non-Null Count  Dtype  \n",
            "---  ------          --------------  -----  \n",
            " 0   ID              63 non-null     object \n",
            " 1   Gender          62 non-null     object \n",
            " 2   Age             63 non-null     float64\n",
            " 3   Class           62 non-null     object \n",
            " 4   Major           63 non-null     object \n",
            " 5   Grad Intention  62 non-null     object \n",
            " 6   GPA             63 non-null     float64\n",
            "dtypes: float64(2), object(5)\n",
            "memory usage: 3.6+ KB\n",
            "\n",
            "Unique values in DataFrame after cleaning:\n",
            "\n",
            "Column: ID\n",
            "Number of unique values: 62\n",
            "Unique values: ['S1' 'S2' 'S3' 'S4' 'S5' 'S6' 'S7' 'S8' 'S9' 'S10' 'S11' 'S12' 'S13'\n",
            " 'S14' 'S15' 'S16' 'S17' 'S18' 'S19' 'S20' 'S21' 'S22' 'S23' 'S24' 'S25'\n",
            " 'S26' 'S27' 'S28' 'S29' 'S30' 'S31' 'S32' 'S33' 'S34' 'S35' 'S36' 'S37'\n",
            " 'S38' 'S39' 'S40' 'S41' 'S42' 'S43' 'S44' 'S45' 'S46' 'S47' 'S48' 'S49'\n",
            " 'S50' 'S51' 'S52' 'S53' 'S54' 'S55' 'S56' 'S57' 'S58' 'S59' 'S60' 'S61'\n",
            " 'S62']\n",
            "\n",
            "Column: Gender\n",
            "Number of unique values: 3\n",
            "Unique values: ['Female' 'Male' nan]\n",
            "\n",
            "Column: Age\n",
            "Number of unique values: 8\n",
            "Unique values: [20. 23. 21. 22. 24. 19. 18. 26.]\n",
            "\n",
            "Column: Class\n",
            "Number of unique values: 4\n",
            "Unique values: ['Junior' 'Senior' 'Sophomore' nan]\n",
            "\n",
            "Column: Major\n",
            "Number of unique values: 8\n",
            "Unique values: ['Other' 'Management' 'CIS' 'Economics/Finance' 'Undecided'\n",
            " 'International Business' 'Retailing/Marketing' 'Accounting']\n",
            "\n",
            "Column: Grad Intention\n",
            "Number of unique values: 4\n",
            "Unique values: ['Yes' 'Undecided' 'No' nan]\n",
            "\n",
            "Column: GPA\n",
            "Number of unique values: 23\n",
            "Unique values: [2.88 3.6  2.5  2.8  2.34 3.   3.1  3.3  3.5  3.4  3.2  3.68 3.17 3.19\n",
            " 2.95 2.6  2.9  3.33 2.57 3.05 2.75 3.82 2.4 ]\n"
          ]
        }
      ]
    },
    {
      "cell_type": "markdown",
      "source": [
        "# Display missing values\n"
      ],
      "metadata": {
        "id": "xfTTvzc363Mz"
      }
    },
    {
      "cell_type": "code",
      "source": [
        "# Check for missing values in dirty_df\n",
        "print(\"\\nMissing values in dirty_df after cleaning:\")\n",
        "print(dirty_df.isnull().sum())\n",
        "dirty_df.info()"
      ],
      "metadata": {
        "colab": {
          "base_uri": "https://localhost:8080/"
        },
        "id": "i3V3PlVJ69Y5",
        "outputId": "ae2e3f86-16b5-4898-a1d8-72e0715959cb"
      },
      "execution_count": 13,
      "outputs": [
        {
          "output_type": "stream",
          "name": "stdout",
          "text": [
            "\n",
            "Missing values in dirty_df after cleaning:\n",
            "ID                0\n",
            "Gender            1\n",
            "Age               0\n",
            "Class             1\n",
            "Major             0\n",
            "Grad Intention    1\n",
            "GPA               0\n",
            "dtype: int64\n",
            "<class 'pandas.core.frame.DataFrame'>\n",
            "RangeIndex: 63 entries, 0 to 62\n",
            "Data columns (total 7 columns):\n",
            " #   Column          Non-Null Count  Dtype  \n",
            "---  ------          --------------  -----  \n",
            " 0   ID              63 non-null     object \n",
            " 1   Gender          62 non-null     object \n",
            " 2   Age             63 non-null     float64\n",
            " 3   Class           62 non-null     object \n",
            " 4   Major           63 non-null     object \n",
            " 5   Grad Intention  62 non-null     object \n",
            " 6   GPA             63 non-null     float64\n",
            "dtypes: float64(2), object(5)\n",
            "memory usage: 3.6+ KB\n"
          ]
        }
      ]
    },
    {
      "cell_type": "code",
      "metadata": {
        "colab": {
          "base_uri": "https://localhost:8080/"
        },
        "id": "e7f9b17c-2079-45ff-9c05-9e0688180c10",
        "outputId": "ab9c36d1-9d74-480b-bfb6-20dbcf38eb8f"
      },
      "source": [
        "# Handle missing values and outliers in 'GPA'\n",
        "# For 'GPA', we can fill missing values with the median GPA. Also, address potential outliers (-3.0 and 7.3).\n",
        "# Let's replace values outside a reasonable range (e.g., 0-4) with NaN and then impute.\n",
        "dirty_df['GPA'] = dirty_df['GPA'].fillna(dirty_df['GPA'].median())\n",
        "dirty_df['GPA'] = dirty_df['GPA'].apply(lambda x: x if 0 <= x <= 4 else np.nan)\n",
        "\n",
        "# Check unique values after cleaning\n",
        "print(\"\\nMissing values in dirty_df after filling Age and GPA:\")\n",
        "print(dirty_df.isnull().sum())\n",
        "print(\"\\nUnique values in 'GPA' after cleaning:\")\n",
        "print(dirty_df['GPA'].unique())"
      ],
      "execution_count": 10,
      "outputs": [
        {
          "output_type": "stream",
          "name": "stdout",
          "text": [
            "\n",
            "Unique values in 'GPA' after cleaning:\n",
            "[2.88 3.6  2.5  2.8  2.34 3.   3.1  3.3  3.5  3.4  3.2  3.68 3.17 3.19\n",
            " 2.95 2.6  2.9  3.33 2.57 3.05 2.75 3.82 2.4 ]\n"
          ]
        }
      ]
    },
    {
      "cell_type": "code",
      "source": [
        "# Fill missing values in object type columns with the mode\n",
        "for column in ['Gender', 'Class', 'Grad Intention']:\n",
        "    if dirty_df[column].isnull().any():\n",
        "        mode_value = dirty_df[column].mode()[0]\n",
        "        dirty_df[column] = dirty_df[column].fillna(mode_value)\n",
        "\n",
        "# Check for missing values again to confirm\n",
        "print(\"\\nMissing values in dirty_df after filling object columns:\")\n",
        "print(dirty_df.isnull().sum())"
      ],
      "metadata": {
        "colab": {
          "base_uri": "https://localhost:8080/"
        },
        "id": "x0CElFHZ7dnE",
        "outputId": "fe624b46-bb2d-4e2d-e2d0-82d69b47d044"
      },
      "execution_count": 16,
      "outputs": [
        {
          "output_type": "stream",
          "name": "stdout",
          "text": [
            "\n",
            "Missing values in dirty_df after filling object columns:\n",
            "ID                0\n",
            "Gender            0\n",
            "Age               0\n",
            "Class             0\n",
            "Major             0\n",
            "Grad Intention    0\n",
            "GPA               0\n",
            "dtype: int64\n"
          ]
        }
      ]
    },
    {
      "cell_type": "code",
      "source": [],
      "metadata": {
        "id": "oO2U_b6L7dYn"
      },
      "execution_count": null,
      "outputs": []
    }
  ]
}