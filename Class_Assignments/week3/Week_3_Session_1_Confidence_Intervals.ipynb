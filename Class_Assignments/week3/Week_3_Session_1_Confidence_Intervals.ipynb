{
  "cells": [
    {
      "cell_type": "markdown",
      "metadata": {
        "id": "view-in-github",
        "colab_type": "text"
      },
      "source": [
        "<a href=\"https://colab.research.google.com/github/Kartavya-Jharwal/Kartavya_Business_Analytics2025/blob/main/Week_3_Session_1_Confidence_Intervals.ipynb\" target=\"_parent\"><img src=\"https://colab.research.google.com/assets/colab-badge.svg\" alt=\"Open In Colab\"/></a>"
      ]
    },
    {
      "cell_type": "markdown",
      "id": "d90734b9",
      "metadata": {
        "id": "d90734b9"
      },
      "source": [
        "# Confidence Intervals\n",
        "\n",
        "This notebook will guide you through the process of understanding and calculating **confidence intervals** for the mean in real-world quality control settings.\n",
        "\n",
        "We'll begin with theory, then mathematical formulation, and finally apply it to your examples."
      ]
    },
    {
      "cell_type": "markdown",
      "id": "1910a49f",
      "metadata": {
        "id": "1910a49f"
      },
      "source": [
        "## 1. Theory: Why Use Confidence Intervals?\n",
        "\n",
        "In statistics, a **confidence interval** gives an estimated range of values likely to include an unknown population parameter. This is particularly important in quality control where decisions must be made based on sample data.\n",
        "\n",
        "For example, suppose a production line is meant to fill tubes with exactly 6 oz. of toothpaste. Due to natural variability, each tube may not have exactly 6 oz. Confidence intervals allow us to assess whether the filling process is within an acceptable range."
      ]
    },
    {
      "cell_type": "markdown",
      "id": "39a0cac6",
      "metadata": {
        "id": "39a0cac6"
      },
      "source": [
        "## 2. Mathematical Background\n",
        "\n",
        "For a **population mean μ** with known standard deviation **σ**, and a sample of size **n**, the confidence interval is given by:\n",
        "\n",
        "\\\\[ \\bar{x} \\pm Z_{\\alpha/2} \\cdot \\frac{\\sigma}{\\sqrt{n}} \\\\]\n",
        "\n",
        "Where:\n",
        "- \\\\( \\bar{x} \\\\) is the sample mean\n",
        "- \\\\( Z_{\\alpha/2} \\\\) is the z-value for your desired confidence level (e.g. 1.96 for 95%)\n",
        "- \\\\( \\sigma \\\\) is the population standard deviation\n",
        "- \\\\( n \\\\) is the sample size\n",
        "\n",
        "If the population standard deviation is not known, the sample standard deviation **s** is used instead, and the t-distribution is applied:\n",
        "\n",
        "\\\\[ \\bar{x} \\pm t_{\\alpha/2, n-1} \\cdot \\frac{s}{\\sqrt{n}} \\\\]"
      ]
    },
    {
      "cell_type": "markdown",
      "id": "f61afd7c",
      "metadata": {
        "id": "f61afd7c"
      },
      "source": [
        "## 3. Example 1: Toothpaste Tube Filling\n",
        "\n",
        "A production line is designed to fill tubes with 6 oz. of toothpaste.\n",
        "\n",
        "You randomly sample 30 tubes:\n",
        "- Sample mean: 6.1 oz\n",
        "- Known population standard deviation: 0.2 oz\n",
        "- Significance level: 0.03 (corresponds to a 97% confidence level)\n",
        "\n",
        "Should you stop the production line? Let's calculate the confidence interval and see whether 6 oz falls within it."
      ]
    },
    {
      "cell_type": "code",
      "execution_count": null,
      "id": "2d1bdb49",
      "metadata": {
        "colab": {
          "base_uri": "https://localhost:8080/"
        },
        "id": "2d1bdb49",
        "outputId": "3bbb79d3-de12-4735-b9b2-245523b046da"
      },
      "outputs": [
        {
          "output_type": "stream",
          "name": "stdout",
          "text": [
            "Confidence Interval: (6.021, 6.179)\n",
            "Decision: Stop production?\n"
          ]
        }
      ],
      "source": [
        "import scipy.stats as stats\n",
        "import numpy as np\n",
        "\n",
        "# Given data\n",
        "x_bar = 6.1         # sample mean\n",
        "sigma = 0.2         # population std dev\n",
        "n = 30              # sample size\n",
        "alpha = 0.03\n",
        "\n",
        "# Z-score for 97% confidence\n",
        "z_score = stats.norm.ppf(1 - alpha / 2)\n",
        "\n",
        "# Margin of error\n",
        "margin_error = z_score * (sigma / np.sqrt(n))\n",
        "\n",
        "# Confidence interval\n",
        "lower = x_bar - margin_error\n",
        "upper = x_bar + margin_error\n",
        "\n",
        "print(f\"Confidence Interval: ({lower:.3f}, {upper:.3f})\")\n",
        "print(\"Decision: Stop production?\" if 6.0 < lower or 6.0 > upper else \"Production is within control.\")"
      ]
    },
    {
      "cell_type": "markdown",
      "id": "28518055",
      "metadata": {
        "id": "28518055"
      },
      "source": [
        "## 4. Example 2: Emergency Response Time\n",
        "\n",
        "Goal response time: 12 min or less.\n",
        "\n",
        "Sample of 40 emergencies:\n",
        "- Sample mean: 11.35 min\n",
        "- Sample standard deviation: 3.25\n",
        "- Confidence level: 95%\n",
        "\n",
        "Should the Director of the Medical Center be worried?"
      ]
    },
    {
      "cell_type": "code",
      "execution_count": null,
      "id": "713bcaa0",
      "metadata": {
        "colab": {
          "base_uri": "https://localhost:8080/"
        },
        "id": "713bcaa0",
        "outputId": "6f80349c-bc24-42bc-b039-e7b7010e1aa4"
      },
      "outputs": [
        {
          "output_type": "stream",
          "name": "stdout",
          "text": [
            "Confidence Interval: (10.311, 12.389)\n",
            "Decision: Response time is exceeding target\n"
          ]
        }
      ],
      "source": [
        "# Given data\n",
        "x_bar = 11.35       # sample mean\n",
        "s = 3.25            # sample std dev\n",
        "n = 40              # sample size\n",
        "alpha = 0.05\n",
        "\n",
        "# t-score for 95% confidence and df = n-1\n",
        "t_score = stats.t.ppf(1 - alpha / 2, df=n-1)\n",
        "\n",
        "# Margin of error\n",
        "margin_error = t_score * (s / np.sqrt(n))\n",
        "\n",
        "# Confidence interval\n",
        "lower = x_bar - margin_error\n",
        "upper = x_bar + margin_error\n",
        "\n",
        "print(f\"Confidence Interval: ({lower:.3f}, {upper:.3f})\")\n",
        "print(\"Decision: Response time is exceeding target\" if upper > 12 else \"Response time is within acceptable limits.\")"
      ]
    },
    {
      "cell_type": "markdown",
      "id": "ab506548",
      "metadata": {
        "id": "ab506548"
      },
      "source": [
        "## 5. Summary and Practice\n",
        "\n",
        "- Confidence intervals provide a way to assess variability and control processes.\n",
        "- Use **z-distribution** when population standard deviation is known, **t-distribution** when unknown.\n",
        "- Apply the formula to determine whether key values fall within confidence ranges.\n",
        "\n",
        "### Your Turn\n",
        "Try creating a similar example using your own data, or modify the above examples by changing the sample mean, standard deviation, or confidence level. You could also use the df.describe results you obtained from previous sessions.\n",
        "\n",
        "Write an interpretation of your results."
      ]
    }
  ],
  "metadata": {
    "colab": {
      "provenance": [],
      "include_colab_link": true
    },
    "language_info": {
      "name": "python"
    },
    "kernelspec": {
      "name": "python3",
      "display_name": "Python 3"
    }
  },
  "nbformat": 4,
  "nbformat_minor": 5
}